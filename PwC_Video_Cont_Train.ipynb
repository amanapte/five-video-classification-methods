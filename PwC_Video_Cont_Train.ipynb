{
  "nbformat": 4,
  "nbformat_minor": 0,
  "metadata": {
    "colab": {
      "name": "PwC_Video_Cont_Train",
      "version": "0.3.2",
      "provenance": [],
      "collapsed_sections": []
    },
    "kernelspec": {
      "name": "python2",
      "display_name": "Python 2"
    },
    "accelerator": "GPU"
  },
  "cells": [
    {
      "cell_type": "markdown",
      "metadata": {
        "id": "2bd_THU_KhoH",
        "colab_type": "text"
      },
      "source": [
        "#Dataset preparation\n",
        "##Connect to Drive\n"
      ]
    },
    {
      "cell_type": "code",
      "metadata": {
        "id": "pj_eNta2zK8M",
        "colab_type": "code",
        "colab": {}
      },
      "source": [
        "#Ensure that \"drive is mounted\" message is printed\n",
        "from google.colab import drive\n",
        "drive.mount('/content/drive')"
      ],
      "execution_count": 0,
      "outputs": []
    },
    {
      "cell_type": "markdown",
      "metadata": {
        "id": "B6989ObcKpMR",
        "colab_type": "text"
      },
      "source": [
        "##Copy and structure the dataset"
      ]
    },
    {
      "cell_type": "code",
      "metadata": {
        "id": "r9KiLXaZKaXZ",
        "colab_type": "code",
        "colab": {}
      },
      "source": [
        "!mkdir test\n",
        "!cd ./test/ && mkdir Safe Violence Gun Cold_Arms Smoking Kissing\n",
        "\n",
        "!mkdir train\n",
        "!cd ./train/ && mkdir Safe Violence Gun Cold_Arms Smoking Kissing\n",
        "\n",
        "!cp drive/'My Drive'/pwc_cont_vid/violence.zip ./\n",
        "!unzip violence.zip | awk 'BEGIN { ORS = \" \" } { print \".\" }'\n",
        "\n",
        "!echo \"######################\"\n",
        "!echo \"        1\"\n",
        "!echo \"######################\"\n",
        "\n",
        "!cp drive/'My Drive'/pwc_cont_vid/guns.zip ./\n",
        "!unzip guns.zip | awk 'BEGIN { ORS = \" \" } { print \".\" }'\n",
        "\n",
        "!cp -r drive/'My Drive'/pwc_cont_vid/videos/brush_hair/* ./train/Safe/\n",
        "!cp -r drive/'My Drive'/pwc_cont_vid/videos/pour/* ./train/Safe/\n",
        "!cp -r drive/'My Drive'/pwc_cont_vid/videos/pick/* ./train/Safe/\n",
        "!cp -r drive/'My Drive'/pwc_cont_vid/videos/dive/* ./train/Safe/\n",
        "!cp -r drive/'My Drive'/pwc_cont_vid/videos/talk/* ./train/Safe/\n",
        "!cp -r drive/'My Drive'/pwc_cont_vid/videos/shake_hands/* ./train/Safe/\n",
        "!cp -r drive/'My Drive'/pwc_cont_vid/videos/hug/* ./train/Safe/\n",
        "!cp -r drive/'My Drive'/pwc_cont_vid/videos/climb_stairs/* ./train/Safe/\n",
        "!cp -r drive/'My Drive'/pwc_cont_vid/videos/stand/* ./train/Safe/\n",
        "!cp -r drive/'My Drive'/pwc_cont_vid/videos/pullup/* ./train/Safe/\n",
        "!cp -r drive/'My Drive'/pwc_cont_vid/videos/wave/* ./train/Safe/\n",
        "!cp -r drive/'My Drive'/pwc_cont_vid/videos/chew/* ./train/Safe/\n",
        "!cp -r drive/'My Drive'/pwc_cont_vid/videos/sit/* ./train/Safe/\n",
        "!cp -r drive/'My Drive'/pwc_cont_vid/videos/eat/* ./train/Safe/\n",
        "!cp -r drive/'My Drive'/pwc_cont_vid/videos/walk/* ./train/Safe/\n",
        "!cp -r drive/'My Drive'/pwc_cont_vid/videos/clap/* ./train/Safe/\n",
        "!cp -r drive/'My Drive'/pwc_cont_vid/videos/drink/* ./train/Safe/\n",
        "!cp -r drive/'My Drive'/pwc_cont_vid/videos/run/* ./train/Safe/\n",
        "!mv ./test_v/NonViolence/* ./train/Safe/\n",
        "!mv ./train_v/NonViolence/* ./train/Safe/\n",
        "\n",
        "!echo \"######################\"\n",
        "!echo \"        2\"\n",
        "!echo \"######################\"\n",
        "\n",
        "!cp -r drive/'My Drive'/pwc_cont_vid/videos/punch/* ./train/Violence/\n",
        "!cp -r drive/'My Drive'/pwc_cont_vid/videos/hit/* ./train/Violence/\n",
        "!mv ./test_v/Violence/* ./train/Violence/\n",
        "!mv ./train_v/Violence/* ./train/Violence/\n",
        "\n",
        "!cp -r drive/'My Drive'/pwc_cont_vid/videos/shoot_gun/* ./train/Gun/\n",
        "!mv ./Guns/* ./train/Gun/\n",
        "\n",
        "!cp -r drive/'My Drive'/pwc_cont_vid/videos/sword/* ./train/Cold_Arms/\n",
        "!cp -r drive/'My Drive'/pwc_cont_vid/videos/sword_exercise/* ./train/Cold_Arms/\n",
        "!cp -r drive/'My Drive'/pwc_cont_vid/videos/draw_sword/* ./train/Cold_Arms/\n",
        "\n",
        "!echo \"######################\"\n",
        "!echo \"        3\"\n",
        "!echo \"######################\"\n",
        "\n",
        "!cp -r drive/'My Drive'/pwc_cont_vid/videos/smoke/* ./train/Smoking/\n",
        "\n",
        "!cp -r drive/'My Drive'/pwc_cont_vid/videos/kiss/* ./train/Kissing/\n",
        "\n",
        "!cd ./train/Safe/ && for i in *.mp4;do name=`echo $i | cut -d'.' -f1`;echo $name;ffmpeg -loglevel panic -y -i \"$i\" -vcodec copy -acodec copy \"${name}.avi\";done\n",
        "!cd ./train/Violence/ && for i in *.mp4;do name=`echo $i | cut -d'.' -f1`;echo $name;ffmpeg -loglevel panic -y -i \"$i\" -vcodec copy -acodec copy \"${name}.avi\";done\n",
        "!cd ./train/Gun/ && for i in *.mp4;do name=`echo $i | cut -d'.' -f1`;echo $name;ffmpeg -loglevel panic -y -i \"$i\" -vcodec copy -acodec copy \"${name}.avi\";done\n",
        "!cd ./train/Cold_Arms/ && for i in *.mp4;do name=`echo $i | cut -d'.' -f1`;echo $name;ffmpeg -loglevel panic -y -i \"$i\" -vcodec copy -acodec copy \"${name}.avi\";done\n",
        "!cd ./train/Smoking/ && for i in *.mp4;do name=`echo $i | cut -d'.' -f1`;echo $name;ffmpeg -loglevel panic -y -i \"$i\" -vcodec copy -acodec copy \"${name}.avi\";done\n",
        "!cd ./train/Kissing/ && for i in *.mp4;do name=`echo $i | cut -d'.' -f1`;echo $name;ffmpeg -loglevel panic -y -i \"$i\" -vcodec copy -acodec copy \"${name}.avi\";done\n",
        "\n",
        "!mv ./train/Safe/'-_FREE_HUGS_-_Abrazos_Gratis_www_abrazosgratis_org_hug_u_cm_np2_le_goo_0.avi' ./train/Safe/S_a.avi\n",
        "!mv ./train/Safe/'-_FREE_HUGS_-_Abrazos_Gratis_www_abrazosgratis_org_hug_u_cm_np2_le_goo_1.avi' ./train/Safe/S_b.avi\n",
        "!mv ./train/Safe/'-_FREE_HUGS_-_Abrazos_Gratis_www_abrazosgratis_org_hug_u_cm_np2_ba_goo_2.avi' ./train/Safe/S_c.avi\n",
        "!mv ./train/Safe/'-_FREE_HUGS_-_Abrazos_Gratis_www_abrazosgratis_org_hug_u_cm_np2_le_goo_3.avi' ./train/Safe/S_d.avi\n",
        "!mv ./train/Safe/'-_FREE_HUGS_-_Abrazos_Gratis_www_abrazosgratis_org_hug_u_cm_np2_le_goo_4.avi' ./train/Safe/S_e.avi\n",
        "!mv ./train/Safe/'-_FREE_HUGS_-_Abrazos_Gratis_www_abrazosgratis_org_hug_u_cm_np4_le_goo_5.avi' ./train/Safe/S_f.avi\n",
        "!mv ./train/Safe/'-_FREE_HUGS_-_Abrazos_Gratis_www_abrazosgratis_org_hug_u_cm_np2_ba_goo_6.avi' ./train/Safe/S_g.avi\n",
        "!mv ./train/Safe/'-_FREE_HUGS_-_Abrazos_Gratis_www_abrazosgratis_org_hug_u_cm_np2_ba_goo_7.avi' ./train/Safe/S_h.avi\n",
        "!mv ./train/Safe/'-_FREE_HUGS_-_Abrazos_Gratis_www_abrazosgratis_org_hug_u_cm_np2_ba_goo_8.avi' ./train/Safe/S_i.avi\n",
        "!mv ./train/Safe/'-_FREE_HUGS_-_Abrazos_Gratis_www_abrazosgratis_org_hug_u_cm_np2_le_goo_9.avi' ./train/Safe/S_j.avi\n",
        "!mv ./train/Safe/'-_FREE_HUGS_-_Abrazos_Gratis_www_abrazosgratis_org_hug_u_cm_np2_ba_goo_10.avi' ./train/Safe/S_k.avi\n",
        "!mv ./train/Safe/'-_FREE_HUGS_-_Abrazos_Gratis_www_abrazosgratis_org_hug_u_cm_np2_le_goo_11.avi' ./train/Safe/S_l.avi\n",
        "!mv ./train/Safe/'-_FREE_HUGS_-_Abrazos_Gratis_www_abrazosgratis_org_hug_u_cm_np2_le_goo_12.avi' ./train/Safe/S_m.avi\n",
        "\n",
        "!rm ./train/*/*.mp4 violence.zip guns.zip\n",
        "\n",
        "!k=1 && cd ./train/Safe/ && for i in *.avi;   do mv \"$i\" \"S_${k}.avi\";   k=$(($k+1)); done\n",
        "!k=1 && cd ./train/Violence/ && for i in *.avi;   do mv \"$i\" \"V_${k}.avi\";   k=$(($k+1)); done\n",
        "!k=1 && cd ./train/Gun/ && for i in *.avi;   do mv \"$i\" \"G_${k}.avi\";   k=$(($k+1)); done\n",
        "!k=1 && cd ./train/Cold_Arms/ && for i in *.avi;   do mv \"$i\" \"C_${k}.avi\";   k=$(($k+1)); done\n",
        "!k=1 && cd ./train/Smoking/ && for i in *.avi;   do mv \"$i\" \"Sm_${k}.avi\";   k=$(($k+1)); done\n",
        "!k=1 && cd ./train/Kissing/ && for i in *.avi;   do mv \"$i\" \"K_${k}.avi\";   k=$(($k+1)); done\n",
        "\n",
        "!t=$(($(ls ./train/Safe/*|wc -w)/3)) && mv `ls ./train/Safe/* |head -$t ` ./test/Safe/\n",
        "!t=$(($(ls ./train/Violence/*|wc -w)/3)) && mv `ls ./train/Violence/* |head -$t ` ./test/Violence/\n",
        "!t=$(($(ls ./train/Gun/*|wc -w)/3)) && mv `ls ./train/Gun/* |head -$t ` ./test/Gun/\n",
        "!t=$(($(ls ./train/Cold_Arms/*|wc -w)/3)) && mv `ls ./train/Cold_Arms/* |head -$t ` ./test/Cold_Arms/\n",
        "!t=$(($(ls ./train/Smoking/*|wc -w)/3)) && mv `ls ./train/Smoking/* |head -$t ` ./test/Smoking/\n",
        "!t=$(($(ls ./train/Kissing/*|wc -w)/3)) && mv `ls ./train/Kissing/* |head -$t ` ./test/Kissing/\n",
        "\n",
        "'''\n",
        "!touch trainlist01.txt\n",
        "!ls ./train/Safe/* >>trainlist01.txt\n",
        "!ls ./train/Violence/* >>trainlist01.txt\n",
        "!ls ./train/Gun/* >>trainlist01.txt\n",
        "!ls ./train/Cold_Arms/* >>trainlist01.txt\n",
        "!ls ./train/Smoking/* >>trainlist01.txt\n",
        "!ls ./train/Kissing/* >>trainlist01.txt\n",
        "\n",
        "!touch testlist01.txt\n",
        "!ls ./test/Safe/* >>testlist01.txt\n",
        "!ls ./test/Violence/* >>testlist01.txt\n",
        "!ls ./test/Gun/* >>testlist01.txt\n",
        "!ls ./test/Cold_Arms/* >>testlist01.txt\n",
        "!ls ./test/Smoking/* >>testlist01.txt\n",
        "!ls ./test/Kissing/* >>testlist01.txt\n",
        "'''"
      ],
      "execution_count": 0,
      "outputs": []
    },
    {
      "cell_type": "markdown",
      "metadata": {
        "id": "rw1OTMi3K3gG",
        "colab_type": "text"
      },
      "source": [
        "#Training\n",
        "##Prepare training environment"
      ]
    },
    {
      "cell_type": "code",
      "metadata": {
        "id": "SrmC97vlKx26",
        "colab_type": "code",
        "colab": {}
      },
      "source": [
        "!apt-get update && apt-get upgrade\n",
        "!pip install tensorflow-gpu\n",
        "!pip install tqdm\n",
        "!nvcc --version\n",
        "!git clone https://github.com/amanapte/video-content-classifier\n",
        "!cd video-content-classifier/ && pip install -r requirements.txt\n",
        "!cd video-content-classifier/data && mkdir checkpoints sequences\n",
        "\n",
        "!mv ./train/ ./video-content-classifier/data/\n",
        "!mv ./test/ ./video-content-classifier/data/"
      ],
      "execution_count": 0,
      "outputs": []
    },
    {
      "cell_type": "markdown",
      "metadata": {
        "id": "0DWLYBlGL_oE",
        "colab_type": "text"
      },
      "source": [
        "##Extract frames from videos"
      ]
    },
    {
      "cell_type": "code",
      "metadata": {
        "id": "EB198JyuL-pb",
        "colab_type": "code",
        "colab": {}
      },
      "source": [
        "!cd ./video-content-classifier/data/ && python extract_files.py"
      ],
      "execution_count": 0,
      "outputs": []
    },
    {
      "cell_type": "markdown",
      "metadata": {
        "id": "TMu1xoTFMAPk",
        "colab_type": "text"
      },
      "source": [
        "##Training the InceptionV3 CNN model"
      ]
    },
    {
      "cell_type": "code",
      "metadata": {
        "id": "FXRO0aJmL-X-",
        "colab_type": "code",
        "colab": {}
      },
      "source": [
        "!cd ./video-content-classifier/ && python train_cnn.py"
      ],
      "execution_count": 0,
      "outputs": []
    },
    {
      "cell_type": "markdown",
      "metadata": {
        "id": "RwFBsb35MQdd",
        "colab_type": "text"
      },
      "source": [
        "##Extracting sequences using the CNN model\n",
        "###Sequences are generated using the frames extracted from the video which will be used to train the RNN model"
      ]
    },
    {
      "cell_type": "code",
      "metadata": {
        "id": "rceNYCi_L-CM",
        "colab_type": "code",
        "colab": {}
      },
      "source": [
        "!cd ./video-content-classifier/ && m=`ls -t ./data/checkpoints/* |head -1 ` && sed -i \"8s~None~\\\"$m\\\"~\" extractor.py #CNN model weights are fed to the script\n",
        "!cd ./video-content-classifier/ && python extract_features.py"
      ],
      "execution_count": 0,
      "outputs": []
    },
    {
      "cell_type": "markdown",
      "metadata": {
        "id": "jgFt026bMrvN",
        "colab_type": "text"
      },
      "source": [
        "##Training the LSTM RNN model"
      ]
    },
    {
      "cell_type": "code",
      "metadata": {
        "id": "BIu9UwCUMsVl",
        "colab_type": "code",
        "colab": {}
      },
      "source": [
        "!cd ./video-content-classifier/ && python train.py"
      ],
      "execution_count": 0,
      "outputs": []
    },
    {
      "cell_type": "markdown",
      "metadata": {
        "id": "UhZ7sfi1MwD4",
        "colab_type": "text"
      },
      "source": [
        "##Saving the models to Google Drive"
      ]
    },
    {
      "cell_type": "code",
      "metadata": {
        "id": "l9kcKAMzMvYN",
        "colab_type": "code",
        "colab": {}
      },
      "source": [
        "!cp -r ./video-content-classifier/data/checkpoints/ drive/'My Drive'/pwc_cont_vid/"
      ],
      "execution_count": 0,
      "outputs": []
    }
  ]
}