{
  "nbformat": 4,
  "nbformat_minor": 0,
  "metadata": {
    "colab": {
      "name": "PwC_Video_Cont_Train",
      "version": "0.3.2",
      "provenance": [],
      "collapsed_sections": [],
      "include_colab_link": true
    },
    "kernelspec": {
      "name": "python2",
      "display_name": "Python 2"
    },
    "accelerator": "GPU"
  },
  "cells": [
    {
      "cell_type": "markdown",
      "metadata": {
        "id": "view-in-github",
        "colab_type": "text"
      },
      "source": [
        "<a href=\"https://colab.research.google.com/github/amanapte/video-content-classifier/blob/master/Video_Cont_Train.ipynb\" target=\"_parent\"><img src=\"https://colab.research.google.com/assets/colab-badge.svg\" alt=\"Open In Colab\"/></a>"
      ]
    },
    {
      "cell_type": "markdown",
      "metadata": {
        "id": "2bd_THU_KhoH",
        "colab_type": "text"
      },
      "source": [
        "#<u>Before executing all code cells</u>:\n",
        "##Add this link to your \"My Drive\" directory in Google Drive:\n",
        "https://drive.google.com/open?id=1GLyiNhaZFTWsqy68qfI3423JZmAdjMf0\n",
        "\n",
        "##Download Kaggle API (.JSON) file from \"Kaggle/My Account\""
      ]
    },
    {
      "cell_type": "markdown",
      "metadata": {
        "id": "i5cVV-lKduIV",
        "colab_type": "text"
      },
      "source": [
        "#Dataset preparation"
      ]
    },
    {
      "cell_type": "markdown",
      "metadata": {
        "id": "6nQYnUR8fuTs",
        "colab_type": "text"
      },
      "source": [
        "##Connect to Drive\n",
        "####Ensure that \"Mounted at /content/drive\" message is printed"
      ]
    },
    {
      "cell_type": "code",
      "metadata": {
        "id": "pj_eNta2zK8M",
        "colab_type": "code",
        "outputId": "a08f81d8-4e48-42be-97fa-c8ca9b308f11",
        "colab": {
          "base_uri": "https://localhost:8080/",
          "height": 124
        }
      },
      "source": [
        "from google.colab import drive\n",
        "drive.mount('/content/drive')"
      ],
      "execution_count": 0,
      "outputs": [
        {
          "output_type": "stream",
          "text": [
            "Go to this URL in a browser: https://accounts.google.com/o/oauth2/auth?client_id=947318989803-6bn6qk8qdgf4n4g3pfee6491hc0brc4i.apps.googleusercontent.com&redirect_uri=urn%3Aietf%3Awg%3Aoauth%3A2.0%3Aoob&scope=email%20https%3A%2F%2Fwww.googleapis.com%2Fauth%2Fdocs.test%20https%3A%2F%2Fwww.googleapis.com%2Fauth%2Fdrive%20https%3A%2F%2Fwww.googleapis.com%2Fauth%2Fdrive.photos.readonly%20https%3A%2F%2Fwww.googleapis.com%2Fauth%2Fpeopleapi.readonly&response_type=code\n",
            "\n",
            "Enter your authorization code:\n",
            "··········\n",
            "Mounted at /content/drive\n"
          ],
          "name": "stdout"
        }
      ]
    },
    {
      "cell_type": "markdown",
      "metadata": {
        "id": "uVaRZS_LyiVy",
        "colab_type": "text"
      },
      "source": [
        "###Upload Kaggle API json file"
      ]
    },
    {
      "cell_type": "code",
      "metadata": {
        "id": "pS7StbzrfVED",
        "colab_type": "code",
        "outputId": "c2fda698-b48e-41e7-951b-27e67a28e87f",
        "colab": {
          "resources": {
            "http://localhost:8080/nbextensions/google.colab/files.js": {
              "data": "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",
              "ok": true,
              "headers": [
                [
                  "content-type",
                  "application/javascript"
                ]
              ],
              "status": 200,
              "status_text": "OK"
            }
          },
          "base_uri": "https://localhost:8080/",
          "height": 108
        }
      },
      "source": [
        "from google.colab import files\n",
        "files.upload()"
      ],
      "execution_count": 0,
      "outputs": [
        {
          "output_type": "display_data",
          "data": {
            "text/plain": [
              "<IPython.core.display.HTML object>"
            ],
            "text/html": [
              "\n",
              "     <input type=\"file\" id=\"files-c7d37f1f-a315-4f6b-9259-126d4f316537\" name=\"files[]\" multiple disabled />\n",
              "     <output id=\"result-c7d37f1f-a315-4f6b-9259-126d4f316537\">\n",
              "      Upload widget is only available when the cell has been executed in the\n",
              "      current browser session. Please rerun this cell to enable.\n",
              "      </output>\n",
              "      <script src=\"/nbextensions/google.colab/files.js\"></script> "
            ]
          },
          "metadata": {
            "tags": []
          }
        },
        {
          "output_type": "stream",
          "text": [
            "Saving kaggle.json to kaggle.json\n"
          ],
          "name": "stdout"
        },
        {
          "output_type": "execute_result",
          "data": {
            "text/plain": [
              "{u'kaggle.json': '{\"username\":\"amanapte\",\"key\":\"3bd80b050257da1455df15b1fba3e73c\"}'}"
            ]
          },
          "metadata": {
            "tags": []
          },
          "execution_count": 2
        }
      ]
    },
    {
      "cell_type": "code",
      "metadata": {
        "id": "6dB7lhdDfI6K",
        "colab_type": "code",
        "outputId": "a85b876c-f8bf-4d7d-9fc3-357107672446",
        "colab": {
          "base_uri": "https://localhost:8080/",
          "height": 3855
        }
      },
      "source": [
        "!apt-get update && apt-get upgrade\n",
        "!apt install gpac\n",
        "!pip install -U -q kaggle\n",
        "!mkdir -p ~/.kaggle\n",
        "!mv kaggle.json ~/.kaggle/\n",
        "!chmod 600 ~/.kaggle/kaggle.json"
      ],
      "execution_count": 0,
      "outputs": [
        {
          "output_type": "stream",
          "text": [
            "\r0% [Working]\r            \rIgn:1 https://developer.download.nvidia.com/compute/cuda/repos/ubuntu1804/x86_64  InRelease\n",
            "\r0% [Connecting to archive.ubuntu.com (91.189.91.23)] [Waiting for headers] [Con\r                                                                               \rHit:2 http://archive.ubuntu.com/ubuntu bionic InRelease\n",
            "\r0% [Waiting for headers] [Waiting for headers] [Connecting to cloud.r-project.o\r                                                                               \rHit:3 http://ppa.launchpad.net/graphics-drivers/ppa/ubuntu bionic InRelease\n",
            "\r0% [Waiting for headers] [Waiting for headers] [Connecting to cloud.r-project.o\r0% [2 InRelease gpgv 242 kB] [Waiting for headers] [Waiting for headers] [Conne\r                                                                               \rIgn:4 https://developer.download.nvidia.com/compute/machine-learning/repos/ubuntu1804/x86_64  InRelease\n",
            "\r0% [2 InRelease gpgv 242 kB] [Waiting for headers] [Waiting for headers] [Conne\r                                                                               \rGet:5 http://archive.ubuntu.com/ubuntu bionic-updates InRelease [88.7 kB]\n",
            "\r0% [2 InRelease gpgv 242 kB] [5 InRelease 2,604 B/88.7 kB 3%] [Waiting for head\r                                                                               \rHit:6 https://developer.download.nvidia.com/compute/cuda/repos/ubuntu1804/x86_64  Release\n",
            "\r0% [2 InRelease gpgv 242 kB] [5 InRelease 5,500 B/88.7 kB 6%] [Waiting for head\r                                                                               \rGet:7 http://security.ubuntu.com/ubuntu bionic-security InRelease [88.7 kB]\n",
            "\r0% [2 InRelease gpgv 242 kB] [5 InRelease 11.3 kB/88.7 kB 13%] [7 InRelease 2,5\r                                                                               \rHit:8 https://developer.download.nvidia.com/compute/machine-learning/repos/ubuntu1804/x86_64  Release\n",
            "\r0% [2 InRelease gpgv 242 kB] [5 InRelease 11.3 kB/88.7 kB 13%] [7 InRelease 2,5\r0% [2 InRelease gpgv 242 kB] [Waiting for headers] [7 InRelease 14.2 kB/88.7 kB\r                                                                               \rGet:9 http://archive.ubuntu.com/ubuntu bionic-backports InRelease [74.6 kB]\n",
            "\r0% [2 InRelease gpgv 242 kB] [9 InRelease 2,604 B/74.6 kB 3%] [7 InRelease 14.2\r                                                                               \rGet:10 http://ppa.launchpad.net/marutter/c2d4u3.5/ubuntu bionic InRelease [15.4 kB]\n",
            "Get:11 https://cloud.r-project.org/bin/linux/ubuntu bionic-cran35/ InRelease [3,626 B]\n",
            "Get:14 http://archive.ubuntu.com/ubuntu bionic-updates/main amd64 Packages [856 kB]\n",
            "Get:15 http://archive.ubuntu.com/ubuntu bionic-updates/universe amd64 Packages [1,225 kB]\n",
            "Get:16 http://archive.ubuntu.com/ubuntu bionic-backports/universe amd64 Packages [3,927 B]\n",
            "Get:17 http://ppa.launchpad.net/marutter/c2d4u3.5/ubuntu bionic/main Sources [1,647 kB]\n",
            "Get:18 http://security.ubuntu.com/ubuntu bionic-security/universe amd64 Packages [719 kB]\n",
            "Get:19 http://security.ubuntu.com/ubuntu bionic-security/main amd64 Packages [553 kB]\n",
            "Get:20 http://ppa.launchpad.net/marutter/c2d4u3.5/ubuntu bionic/main amd64 Packages [791 kB]\n",
            "Fetched 6,065 kB in 3s (1,757 kB/s)\n",
            "Reading package lists... Done\n",
            "Reading package lists... Done\n",
            "Building dependency tree       \n",
            "Reading state information... Done\n",
            "Calculating upgrade... Done\n",
            "The following package was automatically installed and is no longer required:\n",
            "  libnvidia-common-410\n",
            "Use 'apt autoremove' to remove it.\n",
            "The following packages have been kept back:\n",
            "  libcudnn7 libcudnn7-dev libnccl-dev libnccl2\n",
            "The following packages will be upgraded:\n",
            "  bash binutils binutils-common binutils-x86-64-linux-gnu debconf g++\n",
            "  libbinutils libdb5.3 libgnutls30 libpam-systemd libpq5 libseccomp2\n",
            "  libsqlite3-0 libssl-dev libssl1.1 libsystemd0 libudev1 linux-libc-dev\n",
            "  openssl r-cran-dbplyr r-cran-ellipsis r-cran-gdtools r-cran-ggplot2 systemd\n",
            "  systemd-sysv udev\n",
            "26 upgraded, 0 newly installed, 0 to remove and 4 not upgraded.\n",
            "Need to get 18.6 MB of archives.\n",
            "After this operation, 2,015 kB of additional disk space will be used.\n",
            "Get:1 http://archive.ubuntu.com/ubuntu bionic-updates/main amd64 bash amd64 4.4.18-2ubuntu1.1 [615 kB]\n",
            "Get:2 http://ppa.launchpad.net/marutter/c2d4u3.5/ubuntu bionic/main amd64 r-cran-dbplyr all 1.4.2-1cran1ppabionic0 [559 kB]\n",
            "Get:3 http://archive.ubuntu.com/ubuntu bionic-updates/main amd64 debconf all 1.5.66ubuntu1 [124 kB]\n",
            "Get:4 http://archive.ubuntu.com/ubuntu bionic-updates/main amd64 systemd-sysv amd64 237-3ubuntu10.23 [11.4 kB]\n",
            "Get:5 http://archive.ubuntu.com/ubuntu bionic-updates/main amd64 libpam-systemd amd64 237-3ubuntu10.23 [108 kB]\n",
            "Get:6 http://archive.ubuntu.com/ubuntu bionic-updates/main amd64 libsystemd0 amd64 237-3ubuntu10.23 [204 kB]\n",
            "Get:7 http://archive.ubuntu.com/ubuntu bionic-updates/main amd64 systemd amd64 237-3ubuntu10.23 [2,903 kB]\n",
            "Get:8 http://archive.ubuntu.com/ubuntu bionic-updates/main amd64 udev amd64 237-3ubuntu10.23 [1,102 kB]\n",
            "Get:9 http://archive.ubuntu.com/ubuntu bionic-updates/main amd64 libudev1 amd64 237-3ubuntu10.23 [53.6 kB]\n",
            "Get:10 http://archive.ubuntu.com/ubuntu bionic-updates/main amd64 libdb5.3 amd64 5.3.28-13.1ubuntu1.1 [672 kB]\n",
            "Get:11 http://archive.ubuntu.com/ubuntu bionic-updates/main amd64 libgnutls30 amd64 3.5.18-1ubuntu1.1 [645 kB]\n",
            "Get:12 http://archive.ubuntu.com/ubuntu bionic-updates/main amd64 libseccomp2 amd64 2.4.1-0ubuntu0.18.04.2 [39.1 kB]\n",
            "Get:13 http://archive.ubuntu.com/ubuntu bionic-updates/main amd64 libsqlite3-0 amd64 3.22.0-1ubuntu0.1 [497 kB]\n",
            "Get:14 http://archive.ubuntu.com/ubuntu bionic-updates/main amd64 libssl-dev amd64 1.1.1-1ubuntu2.1~18.04.3 [1,566 kB]\n",
            "Get:15 http://archive.ubuntu.com/ubuntu bionic-updates/main amd64 libssl1.1 amd64 1.1.1-1ubuntu2.1~18.04.3 [1,295 kB]\n",
            "Get:16 http://archive.ubuntu.com/ubuntu bionic-updates/main amd64 openssl amd64 1.1.1-1ubuntu2.1~18.04.3 [614 kB]\n",
            "Get:17 http://archive.ubuntu.com/ubuntu bionic-updates/main amd64 binutils-x86-64-linux-gnu amd64 2.30-21ubuntu1~18.04.2 [1,856 kB]\n",
            "Get:18 http://archive.ubuntu.com/ubuntu bionic-updates/main amd64 binutils-common amd64 2.30-21ubuntu1~18.04.2 [193 kB]\n",
            "Get:19 http://archive.ubuntu.com/ubuntu bionic-updates/main amd64 binutils amd64 2.30-21ubuntu1~18.04.2 [3,396 B]\n",
            "Get:20 http://archive.ubuntu.com/ubuntu bionic-updates/main amd64 libbinutils amd64 2.30-21ubuntu1~18.04.2 [503 kB]\n",
            "Get:21 http://archive.ubuntu.com/ubuntu bionic-updates/main amd64 g++ amd64 4:7.4.0-1ubuntu2.3 [1,568 B]\n",
            "Get:22 http://archive.ubuntu.com/ubuntu bionic-updates/main amd64 libpq5 amd64 10.9-0ubuntu0.18.04.1 [108 kB]\n",
            "Get:23 http://archive.ubuntu.com/ubuntu bionic-updates/main amd64 linux-libc-dev amd64 4.15.0-52.56 [1,004 kB]\n",
            "Get:24 http://ppa.launchpad.net/marutter/c2d4u3.5/ubuntu bionic/main amd64 r-cran-ellipsis amd64 0.2.0-1cran1ppabionic0 [28.8 kB]\n",
            "Get:25 http://ppa.launchpad.net/marutter/c2d4u3.5/ubuntu bionic/main amd64 r-cran-gdtools amd64 0.1.9-1cran1ppabionic0 [108 kB]\n",
            "Get:26 http://ppa.launchpad.net/marutter/c2d4u3.5/ubuntu bionic/main amd64 r-cran-ggplot2 all 3.2.0-1cran1ppabionic0 [3,758 kB]\n",
            "Fetched 18.6 MB in 3s (7,087 kB/s)\n",
            "Preconfiguring packages ...\n",
            "(Reading database ... 130942 files and directories currently installed.)\n",
            "Preparing to unpack .../bash_4.4.18-2ubuntu1.1_amd64.deb ...\n",
            "Unpacking bash (4.4.18-2ubuntu1.1) over (4.4.18-2ubuntu1) ...\n",
            "Setting up bash (4.4.18-2ubuntu1.1) ...\n",
            "update-alternatives: using /usr/share/man/man7/bash-builtins.7.gz to provide /usr/share/man/man7/builtins.7.gz (builtins.7.gz) in auto mode\n",
            "(Reading database ... 130942 files and directories currently installed.)\n",
            "Preparing to unpack .../debconf_1.5.66ubuntu1_all.deb ...\n",
            "Unpacking debconf (1.5.66ubuntu1) over (1.5.66) ...\n",
            "Setting up debconf (1.5.66ubuntu1) ...\n",
            "(Reading database ... 130942 files and directories currently installed.)\n",
            "Preparing to unpack .../systemd-sysv_237-3ubuntu10.23_amd64.deb ...\n",
            "Unpacking systemd-sysv (237-3ubuntu10.23) over (237-3ubuntu10.22) ...\n",
            "Preparing to unpack .../libpam-systemd_237-3ubuntu10.23_amd64.deb ...\n",
            "Unpacking libpam-systemd:amd64 (237-3ubuntu10.23) over (237-3ubuntu10.22) ...\n",
            "Preparing to unpack .../libsystemd0_237-3ubuntu10.23_amd64.deb ...\n",
            "Unpacking libsystemd0:amd64 (237-3ubuntu10.23) over (237-3ubuntu10.22) ...\n",
            "Setting up libsystemd0:amd64 (237-3ubuntu10.23) ...\n",
            "(Reading database ... 130942 files and directories currently installed.)\n",
            "Preparing to unpack .../systemd_237-3ubuntu10.23_amd64.deb ...\n",
            "Unpacking systemd (237-3ubuntu10.23) over (237-3ubuntu10.22) ...\n",
            "Preparing to unpack .../udev_237-3ubuntu10.23_amd64.deb ...\n",
            "Unpacking udev (237-3ubuntu10.23) over (237-3ubuntu10.22) ...\n",
            "Preparing to unpack .../libudev1_237-3ubuntu10.23_amd64.deb ...\n",
            "Unpacking libudev1:amd64 (237-3ubuntu10.23) over (237-3ubuntu10.22) ...\n",
            "Setting up libudev1:amd64 (237-3ubuntu10.23) ...\n",
            "(Reading database ... 130942 files and directories currently installed.)\n",
            "Preparing to unpack .../libdb5.3_5.3.28-13.1ubuntu1.1_amd64.deb ...\n",
            "Unpacking libdb5.3:amd64 (5.3.28-13.1ubuntu1.1) over (5.3.28-13.1ubuntu1) ...\n",
            "Setting up libdb5.3:amd64 (5.3.28-13.1ubuntu1.1) ...\n",
            "(Reading database ... 130942 files and directories currently installed.)\n",
            "Preparing to unpack .../libgnutls30_3.5.18-1ubuntu1.1_amd64.deb ...\n",
            "Unpacking libgnutls30:amd64 (3.5.18-1ubuntu1.1) over (3.5.18-1ubuntu1) ...\n",
            "Setting up libgnutls30:amd64 (3.5.18-1ubuntu1.1) ...\n",
            "(Reading database ... 130942 files and directories currently installed.)\n",
            "Preparing to unpack .../libseccomp2_2.4.1-0ubuntu0.18.04.2_amd64.deb ...\n",
            "Unpacking libseccomp2:amd64 (2.4.1-0ubuntu0.18.04.2) over (2.3.1-2.1ubuntu4.1) ...\n",
            "Setting up libseccomp2:amd64 (2.4.1-0ubuntu0.18.04.2) ...\n",
            "(Reading database ... 130942 files and directories currently installed.)\n",
            "Preparing to unpack .../00-libsqlite3-0_3.22.0-1ubuntu0.1_amd64.deb ...\n",
            "Unpacking libsqlite3-0:amd64 (3.22.0-1ubuntu0.1) over (3.22.0-1) ...\n",
            "Preparing to unpack .../01-libssl-dev_1.1.1-1ubuntu2.1~18.04.3_amd64.deb ...\n",
            "Unpacking libssl-dev:amd64 (1.1.1-1ubuntu2.1~18.04.3) over (1.1.1-1ubuntu2.1~18.04.2) ...\n",
            "Preparing to unpack .../02-libssl1.1_1.1.1-1ubuntu2.1~18.04.3_amd64.deb ...\n",
            "Unpacking libssl1.1:amd64 (1.1.1-1ubuntu2.1~18.04.3) over (1.1.1-1ubuntu2.1~18.04.2) ...\n",
            "Preparing to unpack .../03-openssl_1.1.1-1ubuntu2.1~18.04.3_amd64.deb ...\n",
            "Unpacking openssl (1.1.1-1ubuntu2.1~18.04.3) over (1.1.0g-2ubuntu4.3) ...\n",
            "Preparing to unpack .../04-binutils-x86-64-linux-gnu_2.30-21ubuntu1~18.04.2_amd64.deb ...\n",
            "Unpacking binutils-x86-64-linux-gnu (2.30-21ubuntu1~18.04.2) over (2.30-21ubuntu1~18.04.1) ...\n",
            "Preparing to unpack .../05-binutils-common_2.30-21ubuntu1~18.04.2_amd64.deb ...\n",
            "Unpacking binutils-common:amd64 (2.30-21ubuntu1~18.04.2) over (2.30-21ubuntu1~18.04.1) ...\n",
            "Preparing to unpack .../06-binutils_2.30-21ubuntu1~18.04.2_amd64.deb ...\n",
            "Unpacking binutils (2.30-21ubuntu1~18.04.2) over (2.30-21ubuntu1~18.04.1) ...\n",
            "Preparing to unpack .../07-libbinutils_2.30-21ubuntu1~18.04.2_amd64.deb ...\n",
            "Unpacking libbinutils:amd64 (2.30-21ubuntu1~18.04.2) over (2.30-21ubuntu1~18.04.1) ...\n",
            "Preparing to unpack .../08-g++_4%3a7.4.0-1ubuntu2.3_amd64.deb ...\n",
            "Unpacking g++ (4:7.4.0-1ubuntu2.3) over (4:7.4.0-1ubuntu2.2) ...\n",
            "Preparing to unpack .../09-libpq5_10.9-0ubuntu0.18.04.1_amd64.deb ...\n",
            "Unpacking libpq5:amd64 (10.9-0ubuntu0.18.04.1) over (10.8-0ubuntu0.18.04.1) ...\n",
            "Preparing to unpack .../10-linux-libc-dev_4.15.0-52.56_amd64.deb ...\n",
            "Unpacking linux-libc-dev:amd64 (4.15.0-52.56) over (4.15.0-50.54) ...\n",
            "Preparing to unpack .../11-r-cran-dbplyr_1.4.2-1cran1ppabionic0_all.deb ...\n",
            "Unpacking r-cran-dbplyr (1.4.2-1cran1ppabionic0) over (1.4.1-1cran1ppabionic0) ...\n",
            "Preparing to unpack .../12-r-cran-ellipsis_0.2.0-1cran1ppabionic0_amd64.deb ...\n",
            "Unpacking r-cran-ellipsis (0.2.0-1cran1ppabionic0) over (0.1.0-1cran1ppabionic0) ...\n",
            "Preparing to unpack .../13-r-cran-gdtools_0.1.9-1cran1ppabionic0_amd64.deb ...\n",
            "Unpacking r-cran-gdtools (0.1.9-1cran1ppabionic0) over (0.1.8-1cran1ppabionic0) ...\n",
            "Preparing to unpack .../14-r-cran-ggplot2_3.2.0-1cran1ppabionic0_all.deb ...\n",
            "Unpacking r-cran-ggplot2 (3.2.0-1cran1ppabionic0) over (3.1.1-1cran1ppabionic0) ...\n",
            "Setting up linux-libc-dev:amd64 (4.15.0-52.56) ...\n",
            "Setting up r-cran-ellipsis (0.2.0-1cran1ppabionic0) ...\n",
            "Setting up binutils-common:amd64 (2.30-21ubuntu1~18.04.2) ...\n",
            "Processing triggers for libc-bin (2.27-3ubuntu1) ...\n",
            "Setting up udev (237-3ubuntu10.23) ...\n",
            "invoke-rc.d: could not determine current runlevel\n",
            "invoke-rc.d: policy-rc.d denied execution of restart.\n",
            "Setting up libssl1.1:amd64 (1.1.1-1ubuntu2.1~18.04.3) ...\n",
            "Setting up systemd (237-3ubuntu10.23) ...\n",
            "Setting up r-cran-gdtools (0.1.9-1cran1ppabionic0) ...\n",
            "Setting up openssl (1.1.1-1ubuntu2.1~18.04.3) ...\n",
            "Installing new version of config file /etc/ssl/openssl.cnf ...\n",
            "Setting up libsqlite3-0:amd64 (3.22.0-1ubuntu0.1) ...\n",
            "Processing triggers for man-db (2.8.3-2ubuntu0.1) ...\n",
            "Setting up g++ (4:7.4.0-1ubuntu2.3) ...\n",
            "update-alternatives: warning: forcing reinstallation of alternative /usr/bin/g++ because link group c++ is broken\n",
            "Setting up r-cran-ggplot2 (3.2.0-1cran1ppabionic0) ...\n",
            "Processing triggers for dbus (1.12.2-1ubuntu1.1) ...\n",
            "Setting up r-cran-dbplyr (1.4.2-1cran1ppabionic0) ...\n",
            "Setting up libbinutils:amd64 (2.30-21ubuntu1~18.04.2) ...\n",
            "Setting up systemd-sysv (237-3ubuntu10.23) ...\n",
            "Setting up libssl-dev:amd64 (1.1.1-1ubuntu2.1~18.04.3) ...\n",
            "Setting up libpq5:amd64 (10.9-0ubuntu0.18.04.1) ...\n",
            "Setting up binutils-x86-64-linux-gnu (2.30-21ubuntu1~18.04.2) ...\n",
            "Setting up libpam-systemd:amd64 (237-3ubuntu10.23) ...\n",
            "Setting up binutils (2.30-21ubuntu1~18.04.2) ...\n",
            "Processing triggers for libc-bin (2.27-3ubuntu1) ...\n",
            "Reading package lists... Done\n",
            "Building dependency tree       \n",
            "Reading state information... Done\n",
            "The following package was automatically installed and is no longer required:\n",
            "  libnvidia-common-410\n",
            "Use 'apt autoremove' to remove it.\n",
            "The following additional packages will be installed:\n",
            "  gpac-modules-base liba52-0.7.4 libfaad2 libfreenect0.5 libgpac4 libmad0\n",
            "  libsdl1.2debian\n",
            "The following NEW packages will be installed:\n",
            "  gpac gpac-modules-base liba52-0.7.4 libfaad2 libfreenect0.5 libgpac4 libmad0\n",
            "  libsdl1.2debian\n",
            "0 upgraded, 8 newly installed, 0 to remove and 4 not upgraded.\n",
            "Need to get 2,460 kB of archives.\n",
            "After this operation, 7,311 kB of additional disk space will be used.\n",
            "Get:1 http://archive.ubuntu.com/ubuntu bionic-updates/universe amd64 libgpac4 amd64 0.5.2-426-gc5ad4e4+dfsg5-3ubuntu0.1 [1,526 kB]\n",
            "Get:2 http://archive.ubuntu.com/ubuntu bionic/universe amd64 liba52-0.7.4 amd64 0.7.4-19 [35.2 kB]\n",
            "Get:3 http://archive.ubuntu.com/ubuntu bionic/universe amd64 libfaad2 amd64 2.8.8-1 [154 kB]\n",
            "Get:4 http://archive.ubuntu.com/ubuntu bionic/universe amd64 libfreenect0.5 amd64 1:0.5.3-1build1 [40.3 kB]\n",
            "Get:5 http://archive.ubuntu.com/ubuntu bionic-updates/universe amd64 libmad0 amd64 0.15.1b-9ubuntu18.04.1 [64.6 kB]\n",
            "Get:6 http://archive.ubuntu.com/ubuntu bionic/main amd64 libsdl1.2debian amd64 1.2.15+dfsg2-0.1 [174 kB]\n",
            "Get:7 http://archive.ubuntu.com/ubuntu bionic-updates/universe amd64 gpac-modules-base amd64 0.5.2-426-gc5ad4e4+dfsg5-3ubuntu0.1 [213 kB]\n",
            "Get:8 http://archive.ubuntu.com/ubuntu bionic-updates/universe amd64 gpac amd64 0.5.2-426-gc5ad4e4+dfsg5-3ubuntu0.1 [252 kB]\n",
            "Fetched 2,460 kB in 0s (7,277 kB/s)\n",
            "Selecting previously unselected package libgpac4:amd64.\n",
            "(Reading database ... 130952 files and directories currently installed.)\n",
            "Preparing to unpack .../0-libgpac4_0.5.2-426-gc5ad4e4+dfsg5-3ubuntu0.1_amd64.deb ...\n",
            "Unpacking libgpac4:amd64 (0.5.2-426-gc5ad4e4+dfsg5-3ubuntu0.1) ...\n",
            "Selecting previously unselected package liba52-0.7.4:amd64.\n",
            "Preparing to unpack .../1-liba52-0.7.4_0.7.4-19_amd64.deb ...\n",
            "Unpacking liba52-0.7.4:amd64 (0.7.4-19) ...\n",
            "Selecting previously unselected package libfaad2:amd64.\n",
            "Preparing to unpack .../2-libfaad2_2.8.8-1_amd64.deb ...\n",
            "Unpacking libfaad2:amd64 (2.8.8-1) ...\n",
            "Selecting previously unselected package libfreenect0.5:amd64.\n",
            "Preparing to unpack .../3-libfreenect0.5_1%3a0.5.3-1build1_amd64.deb ...\n",
            "Unpacking libfreenect0.5:amd64 (1:0.5.3-1build1) ...\n",
            "Selecting previously unselected package libmad0:amd64.\n",
            "Preparing to unpack .../4-libmad0_0.15.1b-9ubuntu18.04.1_amd64.deb ...\n",
            "Unpacking libmad0:amd64 (0.15.1b-9ubuntu18.04.1) ...\n",
            "Selecting previously unselected package libsdl1.2debian:amd64.\n",
            "Preparing to unpack .../5-libsdl1.2debian_1.2.15+dfsg2-0.1_amd64.deb ...\n",
            "Unpacking libsdl1.2debian:amd64 (1.2.15+dfsg2-0.1) ...\n",
            "Selecting previously unselected package gpac-modules-base:amd64.\n",
            "Preparing to unpack .../6-gpac-modules-base_0.5.2-426-gc5ad4e4+dfsg5-3ubuntu0.1_amd64.deb ...\n",
            "Unpacking gpac-modules-base:amd64 (0.5.2-426-gc5ad4e4+dfsg5-3ubuntu0.1) ...\n",
            "Selecting previously unselected package gpac.\n",
            "Preparing to unpack .../7-gpac_0.5.2-426-gc5ad4e4+dfsg5-3ubuntu0.1_amd64.deb ...\n",
            "Unpacking gpac (0.5.2-426-gc5ad4e4+dfsg5-3ubuntu0.1) ...\n",
            "Setting up libfaad2:amd64 (2.8.8-1) ...\n",
            "Setting up libsdl1.2debian:amd64 (1.2.15+dfsg2-0.1) ...\n",
            "Setting up libfreenect0.5:amd64 (1:0.5.3-1build1) ...\n",
            "Setting up liba52-0.7.4:amd64 (0.7.4-19) ...\n",
            "Processing triggers for libc-bin (2.27-3ubuntu1) ...\n",
            "Processing triggers for man-db (2.8.3-2ubuntu0.1) ...\n",
            "Setting up libmad0:amd64 (0.15.1b-9ubuntu18.04.1) ...\n",
            "Setting up libgpac4:amd64 (0.5.2-426-gc5ad4e4+dfsg5-3ubuntu0.1) ...\n",
            "Setting up gpac-modules-base:amd64 (0.5.2-426-gc5ad4e4+dfsg5-3ubuntu0.1) ...\n",
            "Setting up gpac (0.5.2-426-gc5ad4e4+dfsg5-3ubuntu0.1) ...\n",
            "Processing triggers for libc-bin (2.27-3ubuntu1) ...\n"
          ],
          "name": "stdout"
        }
      ]
    },
    {
      "cell_type": "code",
      "metadata": {
        "id": "a5cCobHZK_LM",
        "colab_type": "code",
        "outputId": "fc671fe0-fa50-4847-bae9-012b7b33f0f7",
        "colab": {
          "base_uri": "https://localhost:8080/",
          "height": 382
        }
      },
      "source": [
        "!git clone https://github.com/amanapte/video-content-classifier\n",
        "\n",
        "!wget kt.agh.edu.pl/~grega/guns/Guns.zip\n",
        "!kaggle datasets download -d mohamedmustafa/real-life-violence-situations-dataset\n",
        "\n",
        "!mv Guns.zip video-content-classifier/data/\n",
        "!mv real-life-violence-situations-dataset.zip video-content-classifier/data/"
      ],
      "execution_count": 0,
      "outputs": [
        {
          "output_type": "stream",
          "text": [
            "Cloning into 'video-content-classifier'...\n",
            "remote: Enumerating objects: 107, done.\u001b[K\n",
            "remote: Counting objects:   0% (1/107)   \u001b[K\rremote: Counting objects:   1% (2/107)   \u001b[K\rremote: Counting objects:   2% (3/107)   \u001b[K\rremote: Counting objects:   3% (4/107)   \u001b[K\rremote: Counting objects:   4% (5/107)   \u001b[K\rremote: Counting objects:   5% (6/107)   \u001b[K\rremote: Counting objects:   6% (7/107)   \u001b[K\rremote: Counting objects:   7% (8/107)   \u001b[K\rremote: Counting objects:   8% (9/107)   \u001b[K\rremote: Counting objects:   9% (10/107)   \u001b[K\rremote: Counting objects:  10% (11/107)   \u001b[K\rremote: Counting objects:  11% (12/107)   \u001b[K\rremote: Counting objects:  12% (13/107)   \u001b[K\rremote: Counting objects:  13% (14/107)   \u001b[K\rremote: Counting objects:  14% (15/107)   \u001b[K\rremote: Counting objects:  15% (17/107)   \u001b[K\rremote: Counting objects:  16% (18/107)   \u001b[K\rremote: Counting objects:  17% (19/107)   \u001b[K\rremote: Counting objects:  18% (20/107)   \u001b[K\rremote: Counting objects:  19% (21/107)   \u001b[K\rremote: Counting objects:  20% (22/107)   \u001b[K\rremote: Counting objects:  21% (23/107)   \u001b[K\rremote: Counting objects:  22% (24/107)   \u001b[K\rremote: Counting objects:  23% (25/107)   \u001b[K\rremote: Counting objects:  24% (26/107)   \u001b[K\rremote: Counting objects:  25% (27/107)   \u001b[K\rremote: Counting objects:  26% (28/107)   \u001b[K\rremote: Counting objects:  27% (29/107)   \u001b[K\rremote: Counting objects:  28% (30/107)   \u001b[K\rremote: Counting objects:  29% (32/107)   \u001b[K\rremote: Counting objects:  30% (33/107)   \u001b[K\rremote: Counting objects:  31% (34/107)   \u001b[K\rremote: Counting objects:  32% (35/107)   \u001b[K\rremote: Counting objects:  33% (36/107)   \u001b[K\rremote: Counting objects:  34% (37/107)   \u001b[K\rremote: Counting objects:  35% (38/107)   \u001b[K\rremote: Counting objects:  36% (39/107)   \u001b[K\rremote: Counting objects:  37% (40/107)   \u001b[K\rremote: Counting objects:  38% (41/107)   \u001b[K\rremote: Counting objects:  39% (42/107)   \u001b[K\rremote: Counting objects:  40% (43/107)   \u001b[K\rremote: Counting objects:  41% (44/107)   \u001b[K\rremote: Counting objects:  42% (45/107)   \u001b[K\rremote: Counting objects:  43% (47/107)   \u001b[K\rremote: Counting objects:  44% (48/107)   \u001b[K\rremote: Counting objects:  45% (49/107)   \u001b[K\rremote: Counting objects:  46% (50/107)   \u001b[K\rremote: Counting objects:  47% (51/107)   \u001b[K\rremote: Counting objects:  48% (52/107)   \u001b[K\rremote: Counting objects:  49% (53/107)   \u001b[K\rremote: Counting objects:  50% (54/107)   \u001b[K\rremote: Counting objects:  51% (55/107)   \u001b[K\rremote: Counting objects:  52% (56/107)   \u001b[K\rremote: Counting objects:  53% (57/107)   \u001b[K\rremote: Counting objects:  54% (58/107)   \u001b[K\rremote: Counting objects:  55% (59/107)   \u001b[K\rremote: Counting objects:  56% (60/107)   \u001b[K\rremote: Counting objects:  57% (61/107)   \u001b[K\rremote: Counting objects:  58% (63/107)   \u001b[K\rremote: Counting objects:  59% (64/107)   \u001b[K\rremote: Counting objects:  60% (65/107)   \u001b[K\rremote: Counting objects:  61% (66/107)   \u001b[K\rremote: Counting objects:  62% (67/107)   \u001b[K\rremote: Counting objects:  63% (68/107)   \u001b[K\rremote: Counting objects:  64% (69/107)   \u001b[K\rremote: Counting objects:  65% (70/107)   \u001b[K\rremote: Counting objects:  66% (71/107)   \u001b[K\rremote: Counting objects:  67% (72/107)   \u001b[K\rremote: Counting objects:  68% (73/107)   \u001b[K\rremote: Counting objects:  69% (74/107)   \u001b[K\rremote: Counting objects:  70% (75/107)   \u001b[K\rremote: Counting objects:  71% (76/107)   \u001b[K\rremote: Counting objects:  72% (78/107)   \u001b[K\rremote: Counting objects:  73% (79/107)   \u001b[K\rremote: Counting objects:  74% (80/107)   \u001b[K\rremote: Counting objects:  75% (81/107)   \u001b[K\rremote: Counting objects:  76% (82/107)   \u001b[K\rremote: Counting objects:  77% (83/107)   \u001b[K\rremote: Counting objects:  78% (84/107)   \u001b[K\rremote: Counting objects:  79% (85/107)   \u001b[K\rremote: Counting objects:  80% (86/107)   \u001b[K\rremote: Counting objects:  81% (87/107)   \u001b[K\rremote: Counting objects:  82% (88/107)   \u001b[K\rremote: Counting objects:  83% (89/107)   \u001b[K\rremote: Counting objects:  84% (90/107)   \u001b[K\rremote: Counting objects:  85% (91/107)   \u001b[K\rremote: Counting objects:  86% (93/107)   \u001b[K\rremote: Counting objects:  87% (94/107)   \u001b[K\rremote: Counting objects:  88% (95/107)   \u001b[K\rremote: Counting objects:  89% (96/107)   \u001b[K\rremote: Counting objects:  90% (97/107)   \u001b[K\rremote: Counting objects:  91% (98/107)   \u001b[K\rremote: Counting objects:  92% (99/107)   \u001b[K\rremote: Counting objects:  93% (100/107)   \u001b[K\rremote: Counting objects:  94% (101/107)   \u001b[K\rremote: Counting objects:  95% (102/107)   \u001b[K\rremote: Counting objects:  96% (103/107)   \u001b[K\rremote: Counting objects:  97% (104/107)   \u001b[K\rremote: Counting objects:  98% (105/107)   \u001b[K\rremote: Counting objects:  99% (106/107)   \u001b[K\rremote: Counting objects: 100% (107/107)   \u001b[K\rremote: Counting objects: 100% (107/107), done.\u001b[K\n",
            "remote: Compressing objects:   0% (1/107)   \u001b[K\rremote: Compressing objects:   1% (2/107)   \u001b[K\rremote: Compressing objects:   2% (3/107)   \u001b[K\rremote: Compressing objects:   3% (4/107)   \u001b[K\rremote: Compressing objects:   4% (5/107)   \u001b[K\rremote: Compressing objects:   5% (6/107)   \u001b[K\rremote: Compressing objects:   6% (7/107)   \u001b[K\rremote: Compressing objects:   7% (8/107)   \u001b[K\rremote: Compressing objects:   8% (9/107)   \u001b[K\rremote: Compressing objects:   9% (10/107)   \u001b[K\rremote: Compressing objects:  10% (11/107)   \u001b[K\rremote: Compressing objects:  11% (12/107)   \u001b[K\rremote: Compressing objects:  12% (13/107)   \u001b[K\rremote: Compressing objects:  13% (14/107)   \u001b[K\rremote: Compressing objects:  14% (15/107)   \u001b[K\rremote: Compressing objects:  15% (17/107)   \u001b[K\rremote: Compressing objects:  16% (18/107)   \u001b[K\rremote: Compressing objects:  17% (19/107)   \u001b[K\rremote: Compressing objects:  18% (20/107)   \u001b[K\rremote: Compressing objects:  19% (21/107)   \u001b[K\rremote: Compressing objects:  20% (22/107)   \u001b[K\rremote: Compressing objects:  21% (23/107)   \u001b[K\rremote: Compressing objects:  22% (24/107)   \u001b[K\rremote: Compressing objects:  23% (25/107)   \u001b[K\rremote: Compressing objects:  24% (26/107)   \u001b[K\rremote: Compressing objects:  25% (27/107)   \u001b[K\rremote: Compressing objects:  26% (28/107)   \u001b[K\rremote: Compressing objects:  27% (29/107)   \u001b[K\rremote: Compressing objects:  28% (30/107)   \u001b[K\rremote: Compressing objects:  29% (32/107)   \u001b[K\rremote: Compressing objects:  30% (33/107)   \u001b[K\rremote: Compressing objects:  31% (34/107)   \u001b[K\rremote: Compressing objects:  32% (35/107)   \u001b[K\rremote: Compressing objects:  33% (36/107)   \u001b[K\rremote: Compressing objects:  34% (37/107)   \u001b[K\rremote: Compressing objects:  35% (38/107)   \u001b[K\rremote: Compressing objects:  36% (39/107)   \u001b[K\rremote: Compressing objects:  37% (40/107)   \u001b[K\rremote: Compressing objects:  38% (41/107)   \u001b[K\rremote: Compressing objects:  39% (42/107)   \u001b[K\rremote: Compressing objects:  40% (43/107)   \u001b[K\rremote: Compressing objects:  41% (44/107)   \u001b[K\rremote: Compressing objects:  42% (45/107)   \u001b[K\rremote: Compressing objects:  43% (47/107)   \u001b[K\rremote: Compressing objects:  44% (48/107)   \u001b[K\rremote: Compressing objects:  45% (49/107)   \u001b[K\rremote: Compressing objects:  46% (50/107)   \u001b[K\rremote: Compressing objects:  47% (51/107)   \u001b[K\rremote: Compressing objects:  48% (52/107)   \u001b[K\rremote: Compressing objects:  49% (53/107)   \u001b[K\rremote: Compressing objects:  50% (54/107)   \u001b[K\rremote: Compressing objects:  51% (55/107)   \u001b[K\rremote: Compressing objects:  52% (56/107)   \u001b[K\rremote: Compressing objects:  53% (57/107)   \u001b[K\rremote: Compressing objects:  54% (58/107)   \u001b[K\rremote: Compressing objects:  55% (59/107)   \u001b[K\rremote: Compressing objects:  56% (60/107)   \u001b[K\rremote: Compressing objects:  57% (61/107)   \u001b[K\rremote: Compressing objects:  58% (63/107)   \u001b[K\rremote: Compressing objects:  59% (64/107)   \u001b[K\rremote: Compressing objects:  60% (65/107)   \u001b[K\rremote: Compressing objects:  61% (66/107)   \u001b[K\rremote: Compressing objects:  62% (67/107)   \u001b[K\rremote: Compressing objects:  63% (68/107)   \u001b[K\rremote: Compressing objects:  64% (69/107)   \u001b[K\rremote: Compressing objects:  65% (70/107)   \u001b[K\rremote: Compressing objects:  66% (71/107)   \u001b[K\rremote: Compressing objects:  67% (72/107)   \u001b[K\rremote: Compressing objects:  68% (73/107)   \u001b[K\rremote: Compressing objects:  69% (74/107)   \u001b[K\rremote: Compressing objects:  70% (75/107)   \u001b[K\rremote: Compressing objects:  71% (76/107)   \u001b[K\rremote: Compressing objects:  72% (78/107)   \u001b[K\rremote: Compressing objects:  73% (79/107)   \u001b[K\rremote: Compressing objects:  74% (80/107)   \u001b[K\rremote: Compressing objects:  75% (81/107)   \u001b[K\rremote: Compressing objects:  76% (82/107)   \u001b[K\rremote: Compressing objects:  77% (83/107)   \u001b[K\rremote: Compressing objects:  78% (84/107)   \u001b[K\rremote: Compressing objects:  79% (85/107)   \u001b[K\rremote: Compressing objects:  80% (86/107)   \u001b[K\rremote: Compressing objects:  81% (87/107)   \u001b[K\rremote: Compressing objects:  82% (88/107)   \u001b[K\rremote: Compressing objects:  83% (89/107)   \u001b[K\rremote: Compressing objects:  84% (90/107)   \u001b[K\rremote: Compressing objects:  85% (91/107)   \u001b[K\rremote: Compressing objects:  86% (93/107)   \u001b[K\rremote: Compressing objects:  87% (94/107)   \u001b[K\rremote: Compressing objects:  88% (95/107)   \u001b[K\rremote: Compressing objects:  89% (96/107)   \u001b[K\rremote: Compressing objects:  90% (97/107)   \u001b[K\rremote: Compressing objects:  91% (98/107)   \u001b[K\rremote: Compressing objects:  92% (99/107)   \u001b[K\rremote: Compressing objects:  93% (100/107)   \u001b[K\rremote: Compressing objects:  94% (101/107)   \u001b[K\rremote: Compressing objects:  95% (102/107)   \u001b[K\rremote: Compressing objects:  96% (103/107)   \u001b[K\rremote: Compressing objects:  97% (104/107)   \u001b[K\rremote: Compressing objects:  98% (105/107)   \u001b[K\rremote: Compressing objects:  99% (106/107)   \u001b[K\rremote: Compressing objects: 100% (107/107)   \u001b[K\rremote: Compressing objects: 100% (107/107), done.\u001b[K\n",
            "Receiving objects:   0% (1/747)   \rReceiving objects:   1% (8/747)   \rReceiving objects:   2% (15/747)   \rReceiving objects:   3% (23/747)   \rReceiving objects:   4% (30/747)   \rReceiving objects:   5% (38/747)   \rReceiving objects:   6% (45/747)   \rReceiving objects:   7% (53/747)   \rReceiving objects:   8% (60/747)   \rReceiving objects:   9% (68/747)   \rReceiving objects:  10% (75/747)   \rReceiving objects:  11% (83/747)   \rReceiving objects:  12% (90/747)   \rReceiving objects:  13% (98/747)   \rReceiving objects:  14% (105/747)   \rReceiving objects:  15% (113/747)   \rReceiving objects:  16% (120/747)   \rReceiving objects:  17% (127/747)   \rReceiving objects:  18% (135/747)   \rReceiving objects:  19% (142/747)   \rReceiving objects:  20% (150/747)   \rReceiving objects:  21% (157/747)   \rReceiving objects:  22% (165/747)   \rReceiving objects:  23% (172/747)   \rReceiving objects:  24% (180/747)   \rReceiving objects:  25% (187/747)   \rReceiving objects:  26% (195/747)   \rReceiving objects:  27% (202/747)   \rReceiving objects:  28% (210/747)   \rReceiving objects:  29% (217/747)   \rReceiving objects:  30% (225/747)   \rReceiving objects:  31% (232/747)   \rReceiving objects:  32% (240/747)   \rReceiving objects:  33% (247/747)   \rReceiving objects:  34% (254/747)   \rReceiving objects:  35% (262/747)   \rReceiving objects:  36% (269/747)   \rReceiving objects:  37% (277/747)   \rReceiving objects:  38% (284/747)   \rReceiving objects:  39% (292/747)   \rReceiving objects:  40% (299/747)   \rReceiving objects:  41% (307/747)   \rReceiving objects:  42% (314/747)   \rReceiving objects:  43% (322/747)   \rReceiving objects:  44% (329/747)   \rReceiving objects:  45% (337/747)   \rReceiving objects:  46% (344/747)   \rReceiving objects:  47% (352/747)   \rReceiving objects:  48% (359/747)   \rReceiving objects:  49% (367/747)   \rReceiving objects:  50% (374/747)   \rReceiving objects:  51% (381/747)   \rReceiving objects:  52% (389/747)   \rReceiving objects:  53% (396/747)   \rReceiving objects:  54% (404/747)   \rReceiving objects:  55% (411/747)   \rReceiving objects:  56% (419/747)   \rReceiving objects:  57% (426/747)   \rReceiving objects:  58% (434/747)   \rReceiving objects:  59% (441/747)   \rReceiving objects:  60% (449/747)   \rReceiving objects:  61% (456/747)   \rReceiving objects:  62% (464/747)   \rReceiving objects:  63% (471/747)   \rReceiving objects:  64% (479/747)   \rReceiving objects:  65% (486/747)   \rReceiving objects:  66% (494/747)   \rReceiving objects:  67% (501/747)   \rReceiving objects:  68% (508/747)   \rReceiving objects:  69% (516/747)   \rReceiving objects:  70% (523/747)   \rReceiving objects:  71% (531/747)   \rReceiving objects:  72% (538/747)   \rReceiving objects:  73% (546/747)   \rremote: Total 747 (delta 63), reused 0 (delta 0), pack-reused 640\u001b[K\n",
            "Receiving objects:  74% (553/747)   \rReceiving objects:  75% (561/747)   \rReceiving objects:  76% (568/747)   \rReceiving objects:  77% (576/747)   \rReceiving objects:  78% (583/747)   \rReceiving objects:  79% (591/747)   \rReceiving objects:  80% (598/747)   \rReceiving objects:  81% (606/747)   \rReceiving objects:  82% (613/747)   \rReceiving objects:  83% (621/747)   \rReceiving objects:  84% (628/747)   \rReceiving objects:  85% (635/747)   \rReceiving objects:  86% (643/747)   \rReceiving objects:  87% (650/747)   \rReceiving objects:  88% (658/747)   \rReceiving objects:  89% (665/747)   \rReceiving objects:  90% (673/747)   \rReceiving objects:  91% (680/747)   \rReceiving objects:  92% (688/747)   \rReceiving objects:  93% (695/747)   \rReceiving objects:  94% (703/747)   \rReceiving objects:  95% (710/747)   \rReceiving objects:  96% (718/747)   \rReceiving objects:  97% (725/747)   \rReceiving objects:  98% (733/747)   \rReceiving objects:  99% (740/747)   \rReceiving objects: 100% (747/747)   \rReceiving objects: 100% (747/747), 421.55 KiB | 4.26 MiB/s, done.\n",
            "Resolving deltas: 100% (441/441), done.\n",
            "--2019-06-23 17:35:16--  http://kt.agh.edu.pl/~grega/guns/Guns.zip\n",
            "Resolving kt.agh.edu.pl (kt.agh.edu.pl)... 149.156.114.3\n",
            "Connecting to kt.agh.edu.pl (kt.agh.edu.pl)|149.156.114.3|:80... connected.\n",
            "HTTP request sent, awaiting response... 200 OK\n",
            "Length: 283917891 (271M) [application/zip]\n",
            "Saving to: ‘Guns.zip’\n",
            "\n",
            "Guns.zip            100%[===================>] 270.76M  8.70MB/s    in 30s     \n",
            "\n",
            "2019-06-23 17:35:47 (8.99 MB/s) - ‘Guns.zip’ saved [283917891/283917891]\n",
            "\n",
            "Downloading real-life-violence-situations-dataset.zip to /content\n",
            " 99% 1.77G/1.79G [00:15<00:00, 93.6MB/s]\n",
            "100% 1.79G/1.79G [00:16<00:00, 120MB/s] \n"
          ],
          "name": "stdout"
        }
      ]
    },
    {
      "cell_type": "code",
      "metadata": {
        "id": "9oAKlRD_gWpZ",
        "colab_type": "code",
        "outputId": "bd2eec08-d42e-4466-f396-c006eb906631",
        "colab": {
          "base_uri": "https://localhost:8080/",
          "height": 5872
        }
      },
      "source": [
        "!mkdir video-content-classifier/data/gun\n",
        "!unzip video-content-classifier/data/Guns.zip -d video-content-classifier/data/gun | awk 'BEGIN { ORS = \" \" } { print \".\" }'\n",
        "\n",
        "!cd video-content-classifier/data/gun/ && MP4Box -split 5 1.mp4\n",
        "!cd video-content-classifier/data/gun/ && MP4Box -split 5 2.mp4\n",
        "!cd video-content-classifier/data/gun/ && MP4Box -split 5 3.mp4\n",
        "!cd video-content-classifier/data/gun/ && MP4Box -split 5 4.mp4\n",
        "!cd video-content-classifier/data/gun/ && MP4Box -split 5 5.mp4\n",
        "!cd video-content-classifier/data/gun/ && MP4Box -split 5 6.mp4\n",
        "!cd video-content-classifier/data/gun/ && MP4Box -split 5 7.mp4\n",
        "\n",
        "!rm video-content-classifier/data/gun/1.mp4 video-content-classifier/data/gun/2.mp4 video-content-classifier/data/gun/3.mp4 \n",
        "!rm video-content-classifier/data/gun/4.mp4 video-content-classifier/data/gun/5.mp4 video-content-classifier/data/gun/6.mp4 video-content-classifier/data/gun/7.mp4\n",
        "!rm video-content-classifier/data/gun/1_001.mp4 video-content-classifier/data/gun/1_002.mp4 video-content-classifier/data/gun/1_129.mp4\n",
        "!rm video-content-classifier/data/gun/2_001.mp4 video-content-classifier/data/gun/2_002.mp4 video-content-classifier/data/gun/2_050.mp4\n",
        "!rm video-content-classifier/data/gun/3_001.mp4 video-content-classifier/data/gun/3_002.mp4 video-content-classifier/data/gun/3_003.mp4 video-content-classifier/data/gun/3_053.mp4\n",
        "!rm video-content-classifier/data/gun/4_001.mp4 video-content-classifier/data/gun/4_002.mp4 video-content-classifier/data/gun/4_039.mp4 video-content-classifier/data/gun/4_040.mp4\n",
        "!rm video-content-classifier/data/gun/5_001.mp4 video-content-classifier/data/gun/5_034.mp4 video-content-classifier/data/gun/5_035.mp4\n",
        "!rm video-content-classifier/data/gun/6_001.mp4\n",
        "!rm video-content-classifier/data/gun/7_001.mp4 video-content-classifier/data/gun/7_002.mp4 video-content-classifier/data/gun/7_020.mp4\n",
        "\n",
        "!cd video-content-classifier/data/ && unzip real-life-violence-situations-dataset.zip | awk 'BEGIN { ORS = \" \" } { print \".\" }'"
      ],
      "execution_count": 0,
      "outputs": [
        {
          "output_type": "stream",
          "text": [
            ". . . . . . . . Storing split-file 1_001.mp4 - duration 4.15 seconds\n",
            "Storing split-file 1_002.mp4 - duration 4.13 seconds\n",
            "Storing split-file 1_003.mp4 - duration 4.13 seconds\n",
            "Storing split-file 1_004.mp4 - duration 4.13 seconds\n",
            "Storing split-file 1_005.mp4 - duration 4.13 seconds\n",
            "Storing split-file 1_006.mp4 - duration 4.13 seconds\n",
            "Storing split-file 1_007.mp4 - duration 4.13 seconds\n",
            "Storing split-file 1_008.mp4 - duration 4.13 seconds\n",
            "Storing split-file 1_009.mp4 - duration 4.13 seconds\n",
            "Storing split-file 1_010.mp4 - duration 4.13 seconds\n",
            "Storing split-file 1_011.mp4 - duration 4.13 seconds\n",
            "Storing split-file 1_012.mp4 - duration 4.13 seconds\n",
            "Storing split-file 1_013.mp4 - duration 4.13 seconds\n",
            "Storing split-file 1_014.mp4 - duration 4.13 seconds\n",
            "Storing split-file 1_015.mp4 - duration 4.13 seconds\n",
            "Storing split-file 1_016.mp4 - duration 4.13 seconds\n",
            "Storing split-file 1_017.mp4 - duration 4.13 seconds\n",
            "Storing split-file 1_018.mp4 - duration 4.13 seconds\n",
            "Storing split-file 1_019.mp4 - duration 4.13 seconds\n",
            "Storing split-file 1_020.mp4 - duration 4.13 seconds\n",
            "Storing split-file 1_021.mp4 - duration 4.13 seconds\n",
            "Storing split-file 1_022.mp4 - duration 4.13 seconds\n",
            "Storing split-file 1_023.mp4 - duration 4.13 seconds\n",
            "Storing split-file 1_024.mp4 - duration 4.13 seconds\n",
            "Storing split-file 1_025.mp4 - duration 4.13 seconds\n",
            "Storing split-file 1_026.mp4 - duration 4.13 seconds\n",
            "Storing split-file 1_027.mp4 - duration 4.13 seconds\n",
            "Storing split-file 1_028.mp4 - duration 4.13 seconds\n",
            "Storing split-file 1_029.mp4 - duration 4.13 seconds\n",
            "Storing split-file 1_030.mp4 - duration 4.13 seconds\n",
            "Storing split-file 1_031.mp4 - duration 4.13 seconds\n",
            "Storing split-file 1_032.mp4 - duration 4.13 seconds\n",
            "Storing split-file 1_033.mp4 - duration 4.13 seconds\n",
            "Storing split-file 1_034.mp4 - duration 4.13 seconds\n",
            "Storing split-file 1_035.mp4 - duration 4.13 seconds\n",
            "Storing split-file 1_036.mp4 - duration 4.13 seconds\n",
            "Storing split-file 1_037.mp4 - duration 4.13 seconds\n",
            "Storing split-file 1_038.mp4 - duration 4.13 seconds\n",
            "Storing split-file 1_039.mp4 - duration 4.13 seconds\n",
            "Storing split-file 1_040.mp4 - duration 4.13 seconds\n",
            "Storing split-file 1_041.mp4 - duration 4.13 seconds\n",
            "Storing split-file 1_042.mp4 - duration 4.13 seconds\n",
            "Storing split-file 1_043.mp4 - duration 4.13 seconds\n",
            "Storing split-file 1_044.mp4 - duration 4.13 seconds\n",
            "Storing split-file 1_045.mp4 - duration 4.13 seconds\n",
            "Storing split-file 1_046.mp4 - duration 4.13 seconds\n",
            "Storing split-file 1_047.mp4 - duration 4.13 seconds\n",
            "Storing split-file 1_048.mp4 - duration 4.13 seconds\n",
            "Storing split-file 1_049.mp4 - duration 4.13 seconds\n",
            "Storing split-file 1_050.mp4 - duration 4.13 seconds\n",
            "Storing split-file 1_051.mp4 - duration 4.13 seconds\n",
            "Storing split-file 1_052.mp4 - duration 4.13 seconds\n",
            "Storing split-file 1_053.mp4 - duration 4.13 seconds\n",
            "Storing split-file 1_054.mp4 - duration 4.13 seconds\n",
            "Storing split-file 1_055.mp4 - duration 4.13 seconds\n",
            "Storing split-file 1_056.mp4 - duration 4.13 seconds\n",
            "Storing split-file 1_057.mp4 - duration 4.13 seconds\n",
            "Storing split-file 1_058.mp4 - duration 4.13 seconds\n",
            "Storing split-file 1_059.mp4 - duration 4.13 seconds\n",
            "Storing split-file 1_060.mp4 - duration 4.13 seconds\n",
            "Storing split-file 1_061.mp4 - duration 4.13 seconds\n",
            "Storing split-file 1_062.mp4 - duration 4.13 seconds\n",
            "Storing split-file 1_063.mp4 - duration 4.13 seconds\n",
            "Storing split-file 1_064.mp4 - duration 4.13 seconds\n",
            "Storing split-file 1_065.mp4 - duration 4.13 seconds\n",
            "Storing split-file 1_066.mp4 - duration 4.13 seconds\n",
            "Storing split-file 1_067.mp4 - duration 4.13 seconds\n",
            "Storing split-file 1_068.mp4 - duration 4.13 seconds\n",
            "Storing split-file 1_069.mp4 - duration 4.13 seconds\n",
            "Storing split-file 1_070.mp4 - duration 4.13 seconds\n",
            "Storing split-file 1_071.mp4 - duration 4.13 seconds\n",
            "Storing split-file 1_072.mp4 - duration 4.13 seconds\n",
            "Storing split-file 1_073.mp4 - duration 4.13 seconds\n",
            "Storing split-file 1_074.mp4 - duration 4.13 seconds\n",
            "Storing split-file 1_075.mp4 - duration 4.13 seconds\n",
            "Storing split-file 1_076.mp4 - duration 4.13 seconds\n",
            "Storing split-file 1_077.mp4 - duration 4.13 seconds\n",
            "Storing split-file 1_078.mp4 - duration 4.13 seconds\n",
            "Storing split-file 1_079.mp4 - duration 4.13 seconds\n",
            "Storing split-file 1_080.mp4 - duration 4.13 seconds\n",
            "Storing split-file 1_081.mp4 - duration 4.13 seconds\n",
            "Storing split-file 1_082.mp4 - duration 4.13 seconds\n",
            "Storing split-file 1_083.mp4 - duration 4.13 seconds\n",
            "Storing split-file 1_084.mp4 - duration 4.13 seconds\n",
            "Storing split-file 1_085.mp4 - duration 4.13 seconds\n",
            "Storing split-file 1_086.mp4 - duration 4.13 seconds\n",
            "Storing split-file 1_087.mp4 - duration 4.13 seconds\n",
            "Storing split-file 1_088.mp4 - duration 4.13 seconds\n",
            "Storing split-file 1_089.mp4 - duration 4.13 seconds\n",
            "Storing split-file 1_090.mp4 - duration 4.13 seconds\n",
            "Storing split-file 1_091.mp4 - duration 4.13 seconds\n",
            "Storing split-file 1_092.mp4 - duration 4.13 seconds\n",
            "Storing split-file 1_093.mp4 - duration 4.13 seconds\n",
            "Storing split-file 1_094.mp4 - duration 4.13 seconds\n",
            "Storing split-file 1_095.mp4 - duration 4.13 seconds\n",
            "Storing split-file 1_096.mp4 - duration 4.13 seconds\n",
            "Storing split-file 1_097.mp4 - duration 4.13 seconds\n",
            "Storing split-file 1_098.mp4 - duration 4.13 seconds\n",
            "Storing split-file 1_099.mp4 - duration 4.13 seconds\n",
            "Storing split-file 1_100.mp4 - duration 4.13 seconds\n",
            "Storing split-file 1_101.mp4 - duration 4.13 seconds\n",
            "Storing split-file 1_102.mp4 - duration 4.13 seconds\n",
            "Storing split-file 1_103.mp4 - duration 4.13 seconds\n",
            "Storing split-file 1_104.mp4 - duration 4.13 seconds\n",
            "Storing split-file 1_105.mp4 - duration 4.13 seconds\n",
            "Storing split-file 1_106.mp4 - duration 4.13 seconds\n",
            "Storing split-file 1_107.mp4 - duration 4.13 seconds\n",
            "Storing split-file 1_108.mp4 - duration 4.13 seconds\n",
            "Storing split-file 1_109.mp4 - duration 4.13 seconds\n",
            "Storing split-file 1_110.mp4 - duration 4.13 seconds\n",
            "Storing split-file 1_111.mp4 - duration 4.13 seconds\n",
            "Storing split-file 1_112.mp4 - duration 4.13 seconds\n",
            "Storing split-file 1_113.mp4 - duration 4.13 seconds\n",
            "Storing split-file 1_114.mp4 - duration 4.13 seconds\n",
            "Storing split-file 1_115.mp4 - duration 4.13 seconds\n",
            "Storing split-file 1_116.mp4 - duration 4.13 seconds\n",
            "Storing split-file 1_117.mp4 - duration 4.13 seconds\n",
            "Storing split-file 1_118.mp4 - duration 4.13 seconds\n",
            "Storing split-file 1_119.mp4 - duration 4.13 seconds\n",
            "Storing split-file 1_120.mp4 - duration 4.13 seconds\n",
            "Storing split-file 1_121.mp4 - duration 4.13 seconds\n",
            "Storing split-file 1_122.mp4 - duration 4.13 seconds\n",
            "Storing split-file 1_123.mp4 - duration 4.13 seconds\n",
            "Storing split-file 1_124.mp4 - duration 4.13 seconds\n",
            "Storing split-file 1_125.mp4 - duration 4.13 seconds\n",
            "Storing split-file 1_126.mp4 - duration 4.13 seconds\n",
            "Storing split-file 1_127.mp4 - duration 4.13 seconds\n",
            "Storing split-file 1_128.mp4 - duration 4.13 seconds\n",
            "Storing split-file 1_129.mp4 - duration 4.76 seconds\n",
            "Storing split-file 2_001.mp4 - duration 4.14 seconds\n",
            "Storing split-file 2_002.mp4 - duration 4.13 seconds\n",
            "Storing split-file 2_003.mp4 - duration 4.13 seconds\n",
            "Storing split-file 2_004.mp4 - duration 4.13 seconds\n",
            "Storing split-file 2_005.mp4 - duration 4.13 seconds\n",
            "Storing split-file 2_006.mp4 - duration 4.13 seconds\n",
            "Storing split-file 2_007.mp4 - duration 4.13 seconds\n",
            "Storing split-file 2_008.mp4 - duration 4.13 seconds\n",
            "Storing split-file 2_009.mp4 - duration 4.13 seconds\n",
            "Storing split-file 2_010.mp4 - duration 4.13 seconds\n",
            "Storing split-file 2_011.mp4 - duration 4.13 seconds\n",
            "Storing split-file 2_012.mp4 - duration 4.13 seconds\n",
            "Storing split-file 2_013.mp4 - duration 4.13 seconds\n",
            "Storing split-file 2_014.mp4 - duration 4.13 seconds\n",
            "Storing split-file 2_015.mp4 - duration 4.13 seconds\n",
            "Storing split-file 2_016.mp4 - duration 4.13 seconds\n",
            "Storing split-file 2_017.mp4 - duration 4.13 seconds\n",
            "Storing split-file 2_018.mp4 - duration 4.13 seconds\n",
            "Storing split-file 2_019.mp4 - duration 4.13 seconds\n",
            "Storing split-file 2_020.mp4 - duration 4.13 seconds\n",
            "Storing split-file 2_021.mp4 - duration 4.13 seconds\n",
            "Storing split-file 2_022.mp4 - duration 4.13 seconds\n",
            "Storing split-file 2_023.mp4 - duration 4.13 seconds\n",
            "Storing split-file 2_024.mp4 - duration 4.13 seconds\n",
            "Storing split-file 2_025.mp4 - duration 4.13 seconds\n",
            "Storing split-file 2_026.mp4 - duration 4.13 seconds\n",
            "Storing split-file 2_027.mp4 - duration 4.13 seconds\n",
            "Storing split-file 2_028.mp4 - duration 4.13 seconds\n",
            "Storing split-file 2_029.mp4 - duration 4.13 seconds\n",
            "Storing split-file 2_030.mp4 - duration 4.13 seconds\n",
            "Storing split-file 2_031.mp4 - duration 4.13 seconds\n",
            "Storing split-file 2_032.mp4 - duration 4.13 seconds\n",
            "Storing split-file 2_033.mp4 - duration 4.13 seconds\n",
            "Storing split-file 2_034.mp4 - duration 4.13 seconds\n",
            "Storing split-file 2_035.mp4 - duration 4.13 seconds\n",
            "Storing split-file 2_036.mp4 - duration 4.13 seconds\n",
            "Storing split-file 2_037.mp4 - duration 4.13 seconds\n",
            "Storing split-file 2_038.mp4 - duration 4.13 seconds\n",
            "Storing split-file 2_039.mp4 - duration 4.13 seconds\n",
            "Storing split-file 2_040.mp4 - duration 4.13 seconds\n",
            "Storing split-file 2_041.mp4 - duration 4.13 seconds\n",
            "Storing split-file 2_042.mp4 - duration 4.13 seconds\n",
            "Storing split-file 2_043.mp4 - duration 4.13 seconds\n",
            "Storing split-file 2_044.mp4 - duration 4.13 seconds\n",
            "Storing split-file 2_045.mp4 - duration 4.13 seconds\n",
            "Storing split-file 2_046.mp4 - duration 4.13 seconds\n",
            "Storing split-file 2_047.mp4 - duration 4.13 seconds\n",
            "Storing split-file 2_048.mp4 - duration 4.13 seconds\n",
            "Storing split-file 2_049.mp4 - duration 4.13 seconds\n",
            "Storing split-file 2_050.mp4 - duration 3.46 seconds\n",
            "Storing split-file 3_001.mp4 - duration 4.14 seconds\n",
            "Storing split-file 3_002.mp4 - duration 4.13 seconds\n",
            "Storing split-file 3_003.mp4 - duration 4.13 seconds\n",
            "Storing split-file 3_004.mp4 - duration 4.13 seconds\n",
            "Storing split-file 3_005.mp4 - duration 4.13 seconds\n",
            "Storing split-file 3_006.mp4 - duration 4.13 seconds\n",
            "Storing split-file 3_007.mp4 - duration 4.13 seconds\n",
            "Storing split-file 3_008.mp4 - duration 4.13 seconds\n",
            "Storing split-file 3_009.mp4 - duration 4.13 seconds\n",
            "Storing split-file 3_010.mp4 - duration 4.13 seconds\n",
            "Storing split-file 3_011.mp4 - duration 4.13 seconds\n",
            "Storing split-file 3_012.mp4 - duration 4.13 seconds\n",
            "Storing split-file 3_013.mp4 - duration 4.13 seconds\n",
            "Storing split-file 3_014.mp4 - duration 4.13 seconds\n",
            "Storing split-file 3_015.mp4 - duration 4.13 seconds\n",
            "Storing split-file 3_016.mp4 - duration 4.13 seconds\n",
            "Storing split-file 3_017.mp4 - duration 4.13 seconds\n",
            "Storing split-file 3_018.mp4 - duration 4.13 seconds\n",
            "Storing split-file 3_019.mp4 - duration 4.13 seconds\n",
            "Storing split-file 3_020.mp4 - duration 4.13 seconds\n",
            "Storing split-file 3_021.mp4 - duration 4.13 seconds\n",
            "Storing split-file 3_022.mp4 - duration 4.13 seconds\n",
            "Storing split-file 3_023.mp4 - duration 4.13 seconds\n",
            "Storing split-file 3_024.mp4 - duration 4.13 seconds\n",
            "Storing split-file 3_025.mp4 - duration 4.13 seconds\n",
            "Storing split-file 3_026.mp4 - duration 4.13 seconds\n",
            "Storing split-file 3_027.mp4 - duration 4.13 seconds\n",
            "Storing split-file 3_028.mp4 - duration 4.13 seconds\n",
            "Storing split-file 3_029.mp4 - duration 4.13 seconds\n",
            "Storing split-file 3_030.mp4 - duration 4.13 seconds\n",
            "Storing split-file 3_031.mp4 - duration 4.13 seconds\n",
            "Storing split-file 3_032.mp4 - duration 4.13 seconds\n",
            "Storing split-file 3_033.mp4 - duration 4.13 seconds\n",
            "Storing split-file 3_034.mp4 - duration 4.13 seconds\n",
            "Storing split-file 3_035.mp4 - duration 4.13 seconds\n",
            "Storing split-file 3_036.mp4 - duration 4.13 seconds\n",
            "Storing split-file 3_037.mp4 - duration 4.13 seconds\n",
            "Storing split-file 3_038.mp4 - duration 4.13 seconds\n",
            "Storing split-file 3_039.mp4 - duration 4.13 seconds\n",
            "Storing split-file 3_040.mp4 - duration 4.13 seconds\n",
            "Storing split-file 3_041.mp4 - duration 4.13 seconds\n",
            "Storing split-file 3_042.mp4 - duration 4.13 seconds\n",
            "Storing split-file 3_043.mp4 - duration 4.13 seconds\n",
            "Storing split-file 3_044.mp4 - duration 4.13 seconds\n",
            "Storing split-file 3_045.mp4 - duration 4.13 seconds\n",
            "Storing split-file 3_046.mp4 - duration 4.13 seconds\n",
            "Storing split-file 3_047.mp4 - duration 4.13 seconds\n",
            "Storing split-file 3_048.mp4 - duration 4.13 seconds\n",
            "Storing split-file 3_049.mp4 - duration 4.13 seconds\n",
            "Storing split-file 3_050.mp4 - duration 4.13 seconds\n",
            "Storing split-file 3_051.mp4 - duration 4.13 seconds\n",
            "Storing split-file 3_052.mp4 - duration 4.13 seconds\n",
            "Storing split-file 3_053.mp4 - duration 3.90 seconds\n",
            "Storing split-file 4_001.mp4 - duration 4.15 seconds\n",
            "Storing split-file 4_002.mp4 - duration 4.13 seconds\n",
            "Storing split-file 4_003.mp4 - duration 4.13 seconds\n",
            "Storing split-file 4_004.mp4 - duration 4.13 seconds\n",
            "Storing split-file 4_005.mp4 - duration 4.13 seconds\n",
            "Storing split-file 4_006.mp4 - duration 4.13 seconds\n",
            "Storing split-file 4_007.mp4 - duration 4.13 seconds\n",
            "Storing split-file 4_008.mp4 - duration 4.13 seconds\n",
            "Storing split-file 4_009.mp4 - duration 4.13 seconds\n",
            "Storing split-file 4_010.mp4 - duration 4.13 seconds\n",
            "Storing split-file 4_011.mp4 - duration 4.13 seconds\n",
            "Storing split-file 4_012.mp4 - duration 4.13 seconds\n",
            "Storing split-file 4_013.mp4 - duration 4.13 seconds\n",
            "Storing split-file 4_014.mp4 - duration 4.13 seconds\n",
            "Storing split-file 4_015.mp4 - duration 4.13 seconds\n",
            "Storing split-file 4_016.mp4 - duration 4.13 seconds\n",
            "Storing split-file 4_017.mp4 - duration 4.13 seconds\n",
            "Storing split-file 4_018.mp4 - duration 4.13 seconds\n",
            "Storing split-file 4_019.mp4 - duration 4.13 seconds\n",
            "Storing split-file 4_020.mp4 - duration 4.13 seconds\n",
            "Storing split-file 4_021.mp4 - duration 4.13 seconds\n",
            "Storing split-file 4_022.mp4 - duration 4.13 seconds\n",
            "Storing split-file 4_023.mp4 - duration 4.13 seconds\n",
            "Storing split-file 4_024.mp4 - duration 4.13 seconds\n",
            "Storing split-file 4_025.mp4 - duration 4.13 seconds\n",
            "Storing split-file 4_026.mp4 - duration 4.13 seconds\n",
            "Storing split-file 4_027.mp4 - duration 4.13 seconds\n",
            "Storing split-file 4_028.mp4 - duration 4.13 seconds\n",
            "Storing split-file 4_029.mp4 - duration 4.13 seconds\n",
            "Storing split-file 4_030.mp4 - duration 4.13 seconds\n",
            "Storing split-file 4_031.mp4 - duration 4.13 seconds\n",
            "Storing split-file 4_032.mp4 - duration 4.13 seconds\n",
            "Storing split-file 4_033.mp4 - duration 4.13 seconds\n",
            "Storing split-file 4_034.mp4 - duration 4.13 seconds\n",
            "Storing split-file 4_035.mp4 - duration 4.13 seconds\n",
            "Storing split-file 4_036.mp4 - duration 4.13 seconds\n",
            "Storing split-file 4_037.mp4 - duration 4.13 seconds\n",
            "Storing split-file 4_038.mp4 - duration 4.13 seconds\n",
            "Storing split-file 4_039.mp4 - duration 4.50 seconds\n",
            "Storing split-file 4_040.mp4 - duration 4.50 seconds\n",
            "Storing split-file 5_001.mp4 - duration 4.13 seconds\n",
            "Storing split-file 5_002.mp4 - duration 4.13 seconds\n",
            "Storing split-file 5_003.mp4 - duration 4.13 seconds\n",
            "Storing split-file 5_004.mp4 - duration 4.13 seconds\n",
            "Storing split-file 5_005.mp4 - duration 4.13 seconds\n",
            "Storing split-file 5_006.mp4 - duration 4.13 seconds\n",
            "Storing split-file 5_007.mp4 - duration 4.13 seconds\n",
            "Storing split-file 5_008.mp4 - duration 4.13 seconds\n",
            "Storing split-file 5_009.mp4 - duration 4.13 seconds\n",
            "Storing split-file 5_010.mp4 - duration 4.13 seconds\n",
            "Storing split-file 5_011.mp4 - duration 4.13 seconds\n",
            "Storing split-file 5_012.mp4 - duration 4.13 seconds\n",
            "Storing split-file 5_013.mp4 - duration 4.13 seconds\n",
            "Storing split-file 5_014.mp4 - duration 4.13 seconds\n",
            "Storing split-file 5_015.mp4 - duration 4.13 seconds\n",
            "Storing split-file 5_016.mp4 - duration 4.13 seconds\n",
            "Storing split-file 5_017.mp4 - duration 4.13 seconds\n",
            "Storing split-file 5_018.mp4 - duration 4.13 seconds\n",
            "Storing split-file 5_019.mp4 - duration 4.13 seconds\n",
            "Storing split-file 5_020.mp4 - duration 4.13 seconds\n",
            "Storing split-file 5_021.mp4 - duration 4.13 seconds\n",
            "Storing split-file 5_022.mp4 - duration 4.13 seconds\n",
            "Storing split-file 5_023.mp4 - duration 4.13 seconds\n",
            "Storing split-file 5_024.mp4 - duration 4.13 seconds\n",
            "Storing split-file 5_025.mp4 - duration 4.13 seconds\n",
            "Storing split-file 5_026.mp4 - duration 4.13 seconds\n",
            "Storing split-file 5_027.mp4 - duration 4.13 seconds\n",
            "Storing split-file 5_028.mp4 - duration 4.13 seconds\n",
            "Storing split-file 5_029.mp4 - duration 4.13 seconds\n",
            "Storing split-file 5_030.mp4 - duration 4.13 seconds\n",
            "Storing split-file 5_031.mp4 - duration 4.13 seconds\n",
            "Storing split-file 5_032.mp4 - duration 4.13 seconds\n",
            "Storing split-file 5_033.mp4 - duration 4.13 seconds\n",
            "Storing split-file 5_034.mp4 - duration 4.13 seconds\n",
            "Storing split-file 5_035.mp4 - duration 3.26 seconds\n",
            "Storing split-file 6_001.mp4 - duration 4.13 seconds\n",
            "Storing split-file 6_002.mp4 - duration 4.13 seconds\n",
            "Storing split-file 6_003.mp4 - duration 4.13 seconds\n",
            "Storing split-file 6_004.mp4 - duration 4.13 seconds\n",
            "Storing split-file 6_005.mp4 - duration 4.13 seconds\n",
            "Storing split-file 6_006.mp4 - duration 4.13 seconds\n",
            "Storing split-file 6_007.mp4 - duration 4.13 seconds\n",
            "Storing split-file 6_008.mp4 - duration 4.37 seconds\n",
            "Storing split-file 7_001.mp4 - duration 4.14 seconds\n",
            "Storing split-file 7_002.mp4 - duration 4.13 seconds\n",
            "Storing split-file 7_003.mp4 - duration 4.13 seconds\n",
            "Storing split-file 7_004.mp4 - duration 4.13 seconds\n",
            "Storing split-file 7_005.mp4 - duration 4.13 seconds\n",
            "Storing split-file 7_006.mp4 - duration 4.16 seconds\n",
            "Storing split-file 7_007.mp4 - duration 4.13 seconds\n",
            "Storing split-file 7_008.mp4 - duration 4.13 seconds\n",
            "Storing split-file 7_009.mp4 - duration 4.13 seconds\n",
            "Storing split-file 7_010.mp4 - duration 4.13 seconds\n",
            "Storing split-file 7_011.mp4 - duration 4.13 seconds\n",
            "Storing split-file 7_012.mp4 - duration 4.13 seconds\n",
            "Storing split-file 7_013.mp4 - duration 4.13 seconds\n",
            "Storing split-file 7_014.mp4 - duration 4.13 seconds\n",
            "Storing split-file 7_015.mp4 - duration 4.13 seconds\n",
            "Storing split-file 7_016.mp4 - duration 4.13 seconds\n",
            "Storing split-file 7_017.mp4 - duration 4.13 seconds\n",
            "Storing split-file 7_018.mp4 - duration 4.13 seconds\n",
            "Storing split-file 7_019.mp4 - duration 4.13 seconds\n",
            "Storing split-file 7_020.mp4 - duration 4.10 seconds\n",
            ". . . . . . . . . . . . . . . . . . . . . . . . . . . . . . . . . . . . . . . . . . . . . . . . . . . . . . . . . . . . . . . . . . . . . . . . . . . . . . . . . . . . . . . . . . . . . . . . . . . . . . . . . . . . . . . . . . . . . . . . . . . . . . . . . . . . . . . . . . . . . . . . . . . . . . . . . . . . . . . . . . . . . . . . . . . . . . . . . . . . . . . . . . . . . . . . . . . . . . . . . . . . . . . . . . . . . . . . . . . . . . . . . . . . . . . . . . . . . . . . . . . . . . . . . . . . . . . . . . . . . . . . . . . . . . . . . . . . . . . . . . . . . . . . . . . . . . . . . . . . . . . . . . . . . . . . . . . . . . . . . . . . . . . . . . . . . . . . . . . . . . . . . . . . . . . . . . . . . . . . . . . . . . . . . . . . . . . . . . . . . . . . . . . . . . . . . . . . . . . . . . . . . . . . . . . . . . . . . . . . . . . . . . . . . . . . . . . . . . . . . . . . . . . . . . . . . . . . . . . . . . . . . . . . . . . . . . . . . . . . . . . . . . . . . . . . . . . . . . . . . . . . . . . . . . . . . . . . . . . . . . . . . . . . . . . . . . . . . . . . . . . . . . . . . . . . . . . . . . . . . . . . . . . . . . . . . . . . . . . . . . . . . . . . . . . . . . . . . . . . . . . . . . . . . . . . . . . . . . . . . . . . . . . . . . . . . . . . . . . . . . . . . . . . . . . . . . . . . . . . . . . . . . . . . . . . . . . . . . . . . . . . . . . . . . . . . . . . . . . . . . . . . . . . . . . . . . . . . . . . . . . . . . . . . . . . . . . . . . . . . . . . . . . . . . . . . . . . . . . . . . . . . . . . . . . . . . . . . . . . . . . . . . . . . . . . . . . . . . . . . . . . . . . . . . . . . . . . . . . . . . . . . . . . . . . . . . . . . . . . . . . . . . . . . . . . . . . . . . . . . . . . . . . . . . . . . . . . . . . . . . . . . . . . . . . . . . . . . . . . . . . . . . . . . . . . . . . . . . . . . . . . . . . . . . . . . . . . . . . . . . . . . . . . . . . . . . . . . . . . . . . . . . . . . . . . . . . . . . . . . . . . . . . . . . . . . . . . . . . . . . . . . . . . . . . . . . . . . . . . . . . . . . . . . . . . . . . . . . . . . . . . . . . . . . . . . . . . . . . . . . . . . . . . . . . . . . . . . . . . . . . . . . . . . . . . . . . . . . . . . . . . . . . . . . . . . . . . . . . . . . . . . . . . . . . . . . . . . . . . . . . . . . . . . . . . . . . . . . . . . . . . . . . . . . . . . . . . . . . . . . . . . . . . . . . . . . . . . . . . . . . . . . . . . . . . . . . . . . . . . . . . . . . . . . . . . . . . . . . . . . . . . . . . . . . . . . . . . . . . . . . . . . . . . . . . . . . . . . . . . . . . . . . . . . . . . . . . . . . . . . . . . . . . . . . . . . . . . . . . . . . . . . . . . . . . . . . . . . . . . . . . . . . . . . . . . . . . . . . . . . . . . . . . . . . . . . . . . . . . . . . . . . . . . . . . . . . . . . . . . . . . . . . . . . . . . . . . . . . . . . . . . . . . . . . . . . . . . . . . . . . . . . . . . . . . . . . . . . . . . . . . . . . . . . . . . . . . . . . . . . . . . . . . . . . . . . . . . . . . . . . . . . . . . . . . . . . . . . . . . . . . . . . . . . . . . . . . . . . . . . . . . . . . . . . . . . . . . . . . . . . . . . . . . . . . . . . . . . . . . . . . . . . . . . . . . . . . . . . . . . . . . . . . . . . . . . . . . . . . . . . . . . . . . . . . . . . . . . . . . . . . . . . . . . . . . . . . . . . . . . . . . . . . . . . . . . . . . . . . . . . . . . . . . . . . . . . . . . . . . . . . . . . . . . . . . . . . . . . . . . . . . . . . . . . . . . . . . . . . . . . . . . . . . . . . . . . . . . . . . . . . . . . . . . . . . . . . . . . . . . . . . . . . . . . . . . . . . . . . . . . . . . . . . . . . . . . . . . . . . . . . . . . . . . . . . . . . . . . . . . . . . . . . . . . . . . . . . . . . . . . . . . . . . . . . . . . . . . . . . . . . . . . . . . . . . . . . . . . . . . . . . . . . . . . . . . . . . . . . . . . . . . . . . . . . . . . . . . . . . . . . . . . . . . . . . . . . . . . . . . . . . . . . . . . . . . . . . . . . . . . . . . . . . . . . . . . . . . . . . . . . "
          ],
          "name": "stdout"
        }
      ]
    },
    {
      "cell_type": "markdown",
      "metadata": {
        "id": "B6989ObcKpMR",
        "colab_type": "text"
      },
      "source": [
        "##Copy and structure the dataset"
      ]
    },
    {
      "cell_type": "code",
      "metadata": {
        "id": "r9KiLXaZKaXZ",
        "colab_type": "code",
        "outputId": "bf4883f1-80fe-4385-f485-89012548ae06",
        "colab": {
          "base_uri": "https://localhost:8080/",
          "height": 173
        }
      },
      "source": [
        "!mkdir video-content-classifier/data/test\n",
        "!cd video-content-classifier/data/test/ && mkdir Safe Violence Gun Cold_Arms Smoking Kissing\n",
        "\n",
        "!mkdir video-content-classifier/data/train\n",
        "!cd video-content-classifier/data/train/ && mkdir Safe Violence Gun Cold_Arms Smoking Kissing\n",
        "\n",
        "!cp -r drive/'My Drive'/Cont_vid/videos/brush_hair/* video-content-classifier/data/train/Safe/\n",
        "!cp -r drive/'My Drive'/Cont_vid/videos/pour/* video-content-classifier/data/train/Safe/\n",
        "!cp -r drive/'My Drive'/Cont_vid/videos/pick/* video-content-classifier/data/train/Safe/\n",
        "!cp -r drive/'My Drive'/Cont_vid/videos/dive/* video-content-classifier/data/train/Safe/\n",
        "!cp -r drive/'My Drive'/Cont_vid/videos/talk/* video-content-classifier/data/train/Safe/\n",
        "!cp -r drive/'My Drive'/Cont_vid/videos/shake_hands/* video-content-classifier/data/train/Safe/\n",
        "!cp -r drive/'My Drive'/Cont_vid/videos/hug/* video-content-classifier/data/train/Safe/\n",
        "!cp -r drive/'My Drive'/Cont_vid/videos/climb_stairs/* video-content-classifier/data/train/Safe/\n",
        "!cp -r drive/'My Drive'/Cont_vid/videos/stand/* video-content-classifier/data/train/Safe/\n",
        "!cp -r drive/'My Drive'/Cont_vid/videos/pullup/* video-content-classifier/data/train/Safe/\n",
        "!cp -r drive/'My Drive'/Cont_vid/videos/wave/* video-content-classifier/data/train/Safe/\n",
        "!cp -r drive/'My Drive'/Cont_vid/videos/chew/* video-content-classifier/data/train/Safe/\n",
        "!cp -r drive/'My Drive'/Cont_vid/videos/sit/* video-content-classifier/data/train/Safe/\n",
        "!cp -r drive/'My Drive'/Cont_vid/videos/eat/* video-content-classifier/data/train/Safe/\n",
        "!cp -r drive/'My Drive'/Cont_vid/videos/walk/* video-content-classifier/data/train/Safe/\n",
        "!cp -r drive/'My Drive'/Cont_vid/videos/clap/* video-content-classifier/data/train/Safe/\n",
        "!cp -r drive/'My Drive'/Cont_vid/videos/drink/* video-content-classifier/data/train/Safe/\n",
        "!cp -r drive/'My Drive'/Cont_vid/videos/run/* video-content-classifier/data/train/Safe/\n",
        "!mv video-content-classifier/data/'Real Life Violence Dataset'/NonViolence/* video-content-classifier/data/train/Safe/\n",
        "!echo \"######################\"\n",
        "!echo \"Copied: Safe\"\n",
        "!echo \"######################\"\n",
        "\n",
        "!cp -r drive/'My Drive'/Cont_vid/videos/punch/* video-content-classifier/data/train/Violence/\n",
        "!cp -r drive/'My Drive'/Cont_vid/videos/hit/* video-content-classifier/data/train/Violence/\n",
        "!mv video-content-classifier/data/'Real Life Violence Dataset'/Violence/* video-content-classifier/data/train/Violence/\n",
        "!echo \"######################\"\n",
        "!echo \"Copied: Violence\"\n",
        "!echo \"######################\"\n",
        "\n",
        "!cp -r drive/'My Drive'/Cont_vid/videos/shoot_gun/* video-content-classifier/data/train/Gun/\n",
        "!mv video-content-classifier/data/gun/* video-content-classifier/data/train/Gun/\n",
        "!echo \"######################\"\n",
        "!echo \"Copied: Gun\"\n",
        "!echo \"######################\"\n",
        "\n",
        "!cp -r drive/'My Drive'/Cont_vid/videos/sword/* video-content-classifier/data/train/Cold_Arms/\n",
        "!cp -r drive/'My Drive'/Cont_vid/videos/sword_exercise/* video-content-classifier/data/train/Cold_Arms/\n",
        "!cp -r drive/'My Drive'/Cont_vid/videos/draw_sword/* video-content-classifier/data/train/Cold_Arms/\n",
        "!echo \"######################\"\n",
        "!echo \"Copied: Cold_Arms\"\n",
        "!echo \"######################\"\n",
        "\n",
        "!cp -r drive/'My Drive'/Cont_vid/videos/smoke/* video-content-classifier/data/train/Smoking/\n",
        "!echo \"######################\"\n",
        "!echo \"Copied: Smoking\"\n",
        "!echo \"######################\"\n",
        "\n",
        "!cp -r drive/'My Drive'/Cont_vid/videos/kiss/* video-content-classifier/data/train/Kissing/\n",
        "!echo \"######################\"\n",
        "!echo \"Copied: Kissing\"\n",
        "!echo \"######################\"\n",
        "\n",
        "!cd video-content-classifier/data/train/Safe/ && for i in *.mp4;do name=`echo $i | cut -d'.' -f1`;echo $name;ffmpeg -loglevel panic -y -i \"$i\" -vcodec copy -acodec copy \"${name}.avi\";done\n",
        "!cd video-content-classifier/data/train/Violence/ && for i in *.mp4;do name=`echo $i | cut -d'.' -f1`;echo $name;ffmpeg -loglevel panic -y -i \"$i\" -vcodec copy -acodec copy \"${name}.avi\";done\n",
        "!cd video-content-classifier/data/train/Gun/ && for i in *.mp4;do name=`echo $i | cut -d'.' -f1`;echo $name;ffmpeg -loglevel panic -y -i \"$i\" -vcodec copy -acodec copy \"${name}.avi\";done\n",
        "!cd video-content-classifier/data/train/Cold_Arms/ && for i in *.mp4;do name=`echo $i | cut -d'.' -f1`;echo $name;ffmpeg -loglevel panic -y -i \"$i\" -vcodec copy -acodec copy \"${name}.avi\";done\n",
        "!cd video-content-classifier/data/train/Smoking/ && for i in *.mp4;do name=`echo $i | cut -d'.' -f1`;echo $name;ffmpeg -loglevel panic -y -i \"$i\" -vcodec copy -acodec copy \"${name}.avi\";done\n",
        "!cd video-content-classifier/data/train/Kissing/ && for i in *.mp4;do name=`echo $i | cut -d'.' -f1`;echo $name;ffmpeg -loglevel panic -y -i \"$i\" -vcodec copy -acodec copy \"${name}.avi\";done\n",
        "\n",
        "!mv video-content-classifier/data/train/Safe/'-_FREE_HUGS_-_Abrazos_Gratis_www_abrazosgratis_org_hug_u_cm_np2_le_goo_0.avi' video-content-classifier/data/train/Safe/S_a.avi\n",
        "!mv video-content-classifier/data/train/Safe/'-_FREE_HUGS_-_Abrazos_Gratis_www_abrazosgratis_org_hug_u_cm_np2_le_goo_1.avi' video-content-classifier/data/train/Safe/S_b.avi\n",
        "!mv video-content-classifier/data/train/Safe/'-_FREE_HUGS_-_Abrazos_Gratis_www_abrazosgratis_org_hug_u_cm_np2_ba_goo_2.avi' video-content-classifier/data/train/Safe/S_c.avi\n",
        "!mv video-content-classifier/data/train/Safe/'-_FREE_HUGS_-_Abrazos_Gratis_www_abrazosgratis_org_hug_u_cm_np2_le_goo_3.avi' video-content-classifier/data/train/Safe/S_d.avi\n",
        "!mv video-content-classifier/data/train/Safe/'-_FREE_HUGS_-_Abrazos_Gratis_www_abrazosgratis_org_hug_u_cm_np2_le_goo_4.avi' video-content-classifier/data/train/Safe/S_e.avi\n",
        "!mv video-content-classifier/data/train/Safe/'-_FREE_HUGS_-_Abrazos_Gratis_www_abrazosgratis_org_hug_u_cm_np4_le_goo_5.avi' video-content-classifier/data/train/Safe/S_f.avi\n",
        "!mv video-content-classifier/data/train/Safe/'-_FREE_HUGS_-_Abrazos_Gratis_www_abrazosgratis_org_hug_u_cm_np2_ba_goo_6.avi' video-content-classifier/data/train/Safe/S_g.avi\n",
        "!mv video-content-classifier/data/train/Safe/'-_FREE_HUGS_-_Abrazos_Gratis_www_abrazosgratis_org_hug_u_cm_np2_ba_goo_7.avi' video-content-classifier/data/train/Safe/S_h.avi\n",
        "!mv video-content-classifier/data/train/Safe/'-_FREE_HUGS_-_Abrazos_Gratis_www_abrazosgratis_org_hug_u_cm_np2_ba_goo_8.avi' video-content-classifier/data/train/Safe/S_i.avi\n",
        "!mv video-content-classifier/data/train/Safe/'-_FREE_HUGS_-_Abrazos_Gratis_www_abrazosgratis_org_hug_u_cm_np2_le_goo_9.avi' video-content-classifier/data/train/Safe/S_j.avi\n",
        "!mv video-content-classifier/data/train/Safe/'-_FREE_HUGS_-_Abrazos_Gratis_www_abrazosgratis_org_hug_u_cm_np2_ba_goo_10.avi' video-content-classifier/data/train/Safe/S_k.avi\n",
        "!mv video-content-classifier/data/train/Safe/'-_FREE_HUGS_-_Abrazos_Gratis_www_abrazosgratis_org_hug_u_cm_np2_le_goo_11.avi' video-content-classifier/data/train/Safe/S_l.avi\n",
        "!mv video-content-classifier/data/train/Safe/'-_FREE_HUGS_-_Abrazos_Gratis_www_abrazosgratis_org_hug_u_cm_np2_le_goo_12.avi' video-content-classifier/data/train/Safe/S_m.avi\n",
        "\n",
        "!rm video-content-classifier/data/train/*/*.mp4\n",
        "!rm -rf video-content-classifier/data/gun/ video-content-classifier/data/'Real Life Violence Dataset'/\n",
        "\n",
        "!k=1 && cd video-content-classifier/data/train/Safe/ && for i in *.avi;   do mv \"$i\" \"S_${k}.avi\";   k=$(($k+1)); done\n",
        "!k=1 && cd video-content-classifier/data/train/Violence/ && for i in *.avi;   do mv \"$i\" \"V_${k}.avi\";   k=$(($k+1)); done\n",
        "!k=1 && cd video-content-classifier/data/train/Gun/ && for i in *.avi;   do mv \"$i\" \"G_${k}.avi\";   k=$(($k+1)); done\n",
        "!k=1 && cd video-content-classifier/data/train/Cold_Arms/ && for i in *.avi;   do mv \"$i\" \"C_${k}.avi\";   k=$(($k+1)); done\n",
        "!k=1 && cd video-content-classifier/data/train/Smoking/ && for i in *.avi;   do mv \"$i\" \"Sm_${k}.avi\";   k=$(($k+1)); done\n",
        "!k=1 && cd video-content-classifier/data/train/Kissing/ && for i in *.avi;   do mv \"$i\" \"K_${k}.avi\";   k=$(($k+1)); done\n",
        "\n",
        "!t=$(($(ls video-content-classifier/data/train/Safe/*|wc -w)/3)) && mv `ls video-content-classifier/data/train/Safe/* |head -$t ` video-content-classifier/data/test/Safe/\n",
        "!t=$(($(ls video-content-classifier/data/train/Violence/*|wc -w)/3)) && mv `ls video-content-classifier/data/train/Violence/* |head -$t ` video-content-classifier/data/test/Violence/\n",
        "!t=$(($(ls video-content-classifier/data/train/Gun/*|wc -w)/3)) && mv `ls video-content-classifier/data/train/Gun/* |head -$t ` video-content-classifier/data/test/Gun/\n",
        "!t=$(($(ls video-content-classifier/data/train/Cold_Arms/*|wc -w)/3)) && mv `ls video-content-classifier/data/train/Cold_Arms/* |head -$t ` video-content-classifier/data/test/Cold_Arms/\n",
        "!t=$(($(ls video-content-classifier/data/train/Smoking/*|wc -w)/3)) && mv `ls video-content-classifier/data/train/Smoking/* |head -$t ` video-content-classifier/data/test/Smoking/\n",
        "!t=$(($(ls video-content-classifier/data/train/Kissing/*|wc -w)/3)) && mv `ls video-content-classifier/data/train/Kissing/* |head -$t ` video-content-classifier/data/test/Kissing/\n",
        "\n",
        "'''\n",
        "!touch trainlist01.txt\n",
        "!ls video-content-classifier/data/train/Safe/* >>trainlist01.txt\n",
        "!ls video-content-classifier/data/train/Violence/* >>trainlist01.txt\n",
        "!ls video-content-classifier/data/train/Gun/* >>trainlist01.txt\n",
        "!ls video-content-classifier/data/train/Cold_Arms/* >>trainlist01.txt\n",
        "!ls video-content-classifier/data/train/Smoking/* >>trainlist01.txt\n",
        "!ls video-content-classifier/data/train/Kissing/* >>trainlist01.txt\n",
        "\n",
        "!touch testlist01.txt\n",
        "!ls video-content-classifier/data/test/Safe/* >>testlist01.txt\n",
        "!ls video-content-classifier/data/test/Violence/* >>testlist01.txt\n",
        "!ls video-content-classifier/data/test/Gun/* >>testlist01.txt\n",
        "!ls video-content-classifier/data/test/Cold_Arms/* >>testlist01.txt\n",
        "!ls video-content-classifier/data/test/Smoking/* >>testlist01.txt\n",
        "!ls video-content-classifier/data/test/Kissing/* >>testlist01.txt\n",
        "'''"
      ],
      "execution_count": 0,
      "outputs": [
        {
          "output_type": "stream",
          "text": [
            "######################\n",
            "Copied: Safe\n",
            "######################\n",
            "######################\n",
            "Copied: Violence\n",
            "######################\n",
            "######################\n",
            "Copied: Gun\n",
            "######################\n"
          ],
          "name": "stdout"
        }
      ]
    },
    {
      "cell_type": "markdown",
      "metadata": {
        "id": "rw1OTMi3K3gG",
        "colab_type": "text"
      },
      "source": [
        "#Training"
      ]
    },
    {
      "cell_type": "markdown",
      "metadata": {
        "id": "qc-vYbhcf3AT",
        "colab_type": "text"
      },
      "source": [
        "##Prepare training environment"
      ]
    },
    {
      "cell_type": "code",
      "metadata": {
        "id": "SrmC97vlKx26",
        "colab_type": "code",
        "colab": {}
      },
      "source": [
        "!pip install tensorflow-gpu tqdm\n",
        "!cd video-content-classifier && pip install -r requirements.txt\n",
        "\n",
        "!cd video-content-classifier/data && mkdir checkpoints sequences"
      ],
      "execution_count": 0,
      "outputs": []
    },
    {
      "cell_type": "markdown",
      "metadata": {
        "id": "0DWLYBlGL_oE",
        "colab_type": "text"
      },
      "source": [
        "##Extract frames from videos"
      ]
    },
    {
      "cell_type": "code",
      "metadata": {
        "id": "EB198JyuL-pb",
        "colab_type": "code",
        "colab": {}
      },
      "source": [
        "!cd video-content-classifier/data && python extract_files.py"
      ],
      "execution_count": 0,
      "outputs": []
    },
    {
      "cell_type": "markdown",
      "metadata": {
        "id": "TMu1xoTFMAPk",
        "colab_type": "text"
      },
      "source": [
        "##Training the InceptionV3 CNN model"
      ]
    },
    {
      "cell_type": "code",
      "metadata": {
        "id": "FXRO0aJmL-X-",
        "colab_type": "code",
        "colab": {}
      },
      "source": [
        "!cd video-content-classifier && python train_cnn.py"
      ],
      "execution_count": 0,
      "outputs": []
    },
    {
      "cell_type": "markdown",
      "metadata": {
        "id": "RwFBsb35MQdd",
        "colab_type": "text"
      },
      "source": [
        "##Extracting sequences using the CNN model\n",
        "###Sequences are generated using the frames extracted from the video which will be used to train the RNN model"
      ]
    },
    {
      "cell_type": "code",
      "metadata": {
        "id": "rceNYCi_L-CM",
        "colab_type": "code",
        "colab": {}
      },
      "source": [
        "!cd video-content-classifier && m=`ls -t ./data/checkpoints/* |head -1 ` && sed -i \"8s~None~\\\"$m\\\"~\" extractor.py #CNN model weights are fed to the script\n",
        "!cd video-content-classifier && python extract_features.py"
      ],
      "execution_count": 0,
      "outputs": []
    },
    {
      "cell_type": "markdown",
      "metadata": {
        "id": "jgFt026bMrvN",
        "colab_type": "text"
      },
      "source": [
        "##Training the LSTM RNN model"
      ]
    },
    {
      "cell_type": "code",
      "metadata": {
        "id": "BIu9UwCUMsVl",
        "colab_type": "code",
        "colab": {}
      },
      "source": [
        "!cd video-content-classifier && python train.py"
      ],
      "execution_count": 0,
      "outputs": []
    },
    {
      "cell_type": "markdown",
      "metadata": {
        "id": "UhZ7sfi1MwD4",
        "colab_type": "text"
      },
      "source": [
        "##Saving the models to Google Drive"
      ]
    },
    {
      "cell_type": "code",
      "metadata": {
        "id": "l9kcKAMzMvYN",
        "colab_type": "code",
        "colab": {}
      },
      "source": [
        "!cp -r video-content-classifier/data/checkpoints/* drive/'My Drive'/Cont_vid/"
      ],
      "execution_count": 0,
      "outputs": []
    }
  ]
}