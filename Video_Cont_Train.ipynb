{
  "nbformat": 4,
  "nbformat_minor": 0,
  "metadata": {
    "colab": {
      "name": "PwC_Video_Cont_Train",
      "version": "0.3.2",
      "provenance": [],
      "collapsed_sections": [],
      "include_colab_link": true
    },
    "kernelspec": {
      "name": "python2",
      "display_name": "Python 2"
    },
    "accelerator": "GPU"
  },
  "cells": [
    {
      "cell_type": "markdown",
      "metadata": {
        "id": "view-in-github",
        "colab_type": "text"
      },
      "source": [
        "<a href=\"https://colab.research.google.com/github/amanapte/video-content-classifier/blob/master/Video_Cont_Train.ipynb\" target=\"_parent\"><img src=\"https://colab.research.google.com/assets/colab-badge.svg\" alt=\"Open In Colab\"/></a>"
      ]
    },
    {
      "cell_type": "markdown",
      "metadata": {
        "id": "2bd_THU_KhoH",
        "colab_type": "text"
      },
      "source": [
        "#<u>Before executing all code cells</u>:\n",
        "##Add this link to your \"My Drive\" directory in Google Drive:\n",
        "https://drive.google.com/open?id=1GLyiNhaZFTWsqy68qfI3423JZmAdjMf0\n",
        "\n",
        "##Download Kaggle API (.JSON) file from \"Kaggle/My Account\""
      ]
    },
    {
      "cell_type": "markdown",
      "metadata": {
        "id": "i5cVV-lKduIV",
        "colab_type": "text"
      },
      "source": [
        "#Dataset preparation"
      ]
    },
    {
      "cell_type": "markdown",
      "metadata": {
        "id": "6nQYnUR8fuTs",
        "colab_type": "text"
      },
      "source": [
        "##Connect to Drive\n",
        "####Ensure that \"Mounted at /content/drive\" message is printed"
      ]
    },
    {
      "cell_type": "code",
      "metadata": {
        "id": "pj_eNta2zK8M",
        "colab_type": "code",
        "colab": {}
      },
      "source": [
        "from google.colab import drive\n",
        "drive.mount('/content/drive')"
      ],
      "execution_count": 0,
      "outputs": []
    },
    {
      "cell_type": "markdown",
      "metadata": {
        "id": "uVaRZS_LyiVy",
        "colab_type": "text"
      },
      "source": [
        "###Upload Kaggle API json file"
      ]
    },
    {
      "cell_type": "code",
      "metadata": {
        "id": "pS7StbzrfVED",
        "colab_type": "code",
        "colab": {}
      },
      "source": [
        "from google.colab import files\n",
        "files.upload()"
      ],
      "execution_count": 0,
      "outputs": []
    },
    {
      "cell_type": "code",
      "metadata": {
        "id": "6dB7lhdDfI6K",
        "colab_type": "code",
        "colab": {}
      },
      "source": [
        "!apt-get update && apt-get upgrade\n",
        "!apt install gpac\n",
        "!pip install -U -q kaggle\n",
        "!mkdir -p ~/.kaggle\n",
        "!mv kaggle.json ~/.kaggle/\n",
        "!chmod 600 ~/.kaggle/kaggle.json"
      ],
      "execution_count": 0,
      "outputs": []
    },
    {
      "cell_type": "code",
      "metadata": {
        "id": "a5cCobHZK_LM",
        "colab_type": "code",
        "colab": {}
      },
      "source": [
        "!git clone https://github.com/amanapte/video-content-classifier\n",
        "\n",
        "!wget kt.agh.edu.pl/~grega/guns/Guns.zip\n",
        "!kaggle datasets download -d mohamedmustafa/real-life-violence-situations-dataset\n",
        "\n",
        "!mv Guns.zip video-content-classifier/data/\n",
        "!mv real-life-violence-situations-dataset.zip video-content-classifier/data/"
      ],
      "execution_count": 0,
      "outputs": []
    },
    {
      "cell_type": "code",
      "metadata": {
        "id": "9oAKlRD_gWpZ",
        "colab_type": "code",
        "colab": {}
      },
      "source": [
        "!mkdir video-content-classifier/data/gun\n",
        "!unzip video-content-classifier/data/Guns.zip -d video-content-classifier/data/gun | awk 'BEGIN { ORS = \" \" } { print \".\" }'\n",
        "\n",
        "!cd video-content-classifier/data/gun/ && MP4Box -split 5 1.mp4\n",
        "!cd video-content-classifier/data/gun/ && MP4Box -split 5 2.mp4\n",
        "!cd video-content-classifier/data/gun/ && MP4Box -split 5 3.mp4\n",
        "!cd video-content-classifier/data/gun/ && MP4Box -split 5 4.mp4\n",
        "!cd video-content-classifier/data/gun/ && MP4Box -split 5 5.mp4\n",
        "!cd video-content-classifier/data/gun/ && MP4Box -split 5 6.mp4\n",
        "!cd video-content-classifier/data/gun/ && MP4Box -split 5 7.mp4\n",
        "\n",
        "!rm video-content-classifier/data/gun/1.mp4 video-content-classifier/data/gun/2.mp4 video-content-classifier/data/gun/3.mp4 \n",
        "!rm video-content-classifier/data/gun/4.mp4 video-content-classifier/data/gun/5.mp4 video-content-classifier/data/gun/6.mp4 video-content-classifier/data/gun/7.mp4\n",
        "!rm video-content-classifier/data/gun/1_001.mp4 video-content-classifier/data/gun/1_002.mp4 video-content-classifier/data/gun/1_129.mp4\n",
        "!rm video-content-classifier/data/gun/2_001.mp4 video-content-classifier/data/gun/2_002.mp4 video-content-classifier/data/gun/2_050.mp4\n",
        "!rm video-content-classifier/data/gun/3_001.mp4 video-content-classifier/data/gun/3_002.mp4 video-content-classifier/data/gun/3_003.mp4 video-content-classifier/data/gun/3_053.mp4\n",
        "!rm video-content-classifier/data/gun/4_001.mp4 video-content-classifier/data/gun/4_002.mp4 video-content-classifier/data/gun/4_039.mp4 video-content-classifier/data/gun/4_040.mp4\n",
        "!rm video-content-classifier/data/gun/5_001.mp4 video-content-classifier/data/gun/5_034.mp4 video-content-classifier/data/gun/5_035.mp4\n",
        "!rm video-content-classifier/data/gun/6_001.mp4\n",
        "!rm video-content-classifier/data/gun/7_001.mp4 video-content-classifier/data/gun/7_002.mp4 video-content-classifier/data/gun/7_020.mp4\n",
        "\n",
        "!cd video-content-classifier/data/ && unzip real-life-violence-situations-dataset.zip | awk 'BEGIN { ORS = \" \" } { print \".\" }'"
      ],
      "execution_count": 0,
      "outputs": []
    },
    {
      "cell_type": "markdown",
      "metadata": {
        "id": "B6989ObcKpMR",
        "colab_type": "text"
      },
      "source": [
        "##Copy and structure the dataset"
      ]
    },
    {
      "cell_type": "code",
      "metadata": {
        "id": "r9KiLXaZKaXZ",
        "colab_type": "code",
        "colab": {}
      },
      "source": [
        "!mkdir video-content-classifier/data/test\n",
        "!cd video-content-classifier/data/test/ && mkdir Safe Violence Gun Cold_Arms Smoking Kissing\n",
        "\n",
        "!mkdir video-content-classifier/data/train\n",
        "!cd video-content-classifier/data/train/ && mkdir Safe Violence Gun Cold_Arms Smoking Kissing\n",
        "\n",
        "!cp -r drive/'My Drive'/Cont_vid/videos/brush_hair/* video-content-classifier/data/train/Safe/\n",
        "!cp -r drive/'My Drive'/Cont_vid/videos/pour/* video-content-classifier/data/train/Safe/\n",
        "!cp -r drive/'My Drive'/Cont_vid/videos/pick/* video-content-classifier/data/train/Safe/\n",
        "!cp -r drive/'My Drive'/Cont_vid/videos/dive/* video-content-classifier/data/train/Safe/\n",
        "!cp -r drive/'My Drive'/Cont_vid/videos/talk/* video-content-classifier/data/train/Safe/\n",
        "!cp -r drive/'My Drive'/Cont_vid/videos/shake_hands/* video-content-classifier/data/train/Safe/\n",
        "!cp -r drive/'My Drive'/Cont_vid/videos/hug/* video-content-classifier/data/train/Safe/\n",
        "!cp -r drive/'My Drive'/Cont_vid/videos/climb_stairs/* video-content-classifier/data/train/Safe/\n",
        "!cp -r drive/'My Drive'/Cont_vid/videos/stand/* video-content-classifier/data/train/Safe/\n",
        "!cp -r drive/'My Drive'/Cont_vid/videos/pullup/* video-content-classifier/data/train/Safe/\n",
        "!cp -r drive/'My Drive'/Cont_vid/videos/wave/* video-content-classifier/data/train/Safe/\n",
        "!cp -r drive/'My Drive'/Cont_vid/videos/chew/* video-content-classifier/data/train/Safe/\n",
        "!cp -r drive/'My Drive'/Cont_vid/videos/sit/* video-content-classifier/data/train/Safe/\n",
        "!cp -r drive/'My Drive'/Cont_vid/videos/eat/* video-content-classifier/data/train/Safe/\n",
        "!cp -r drive/'My Drive'/Cont_vid/videos/walk/* video-content-classifier/data/train/Safe/\n",
        "!cp -r drive/'My Drive'/Cont_vid/videos/clap/* video-content-classifier/data/train/Safe/\n",
        "!cp -r drive/'My Drive'/Cont_vid/videos/drink/* video-content-classifier/data/train/Safe/\n",
        "!cp -r drive/'My Drive'/Cont_vid/videos/run/* video-content-classifier/data/train/Safe/\n",
        "!mv video-content-classifier/data/'Real Life Violence Dataset'/NonViolence/* video-content-classifier/data/train/Safe/\n",
        "!echo \"######################\"\n",
        "!echo \"Copied: Safe\"\n",
        "!echo \"######################\"\n",
        "\n",
        "!cp -r drive/'My Drive'/Cont_vid/videos/punch/* video-content-classifier/data/train/Violence/\n",
        "!cp -r drive/'My Drive'/Cont_vid/videos/hit/* video-content-classifier/data/train/Violence/\n",
        "!mv video-content-classifier/data/'Real Life Violence Dataset'/Violence/* video-content-classifier/data/train/Violence/\n",
        "!echo \"######################\"\n",
        "!echo \"Copied: Violence\"\n",
        "!echo \"######################\"\n",
        "\n",
        "!cp -r drive/'My Drive'/Cont_vid/videos/shoot_gun/* video-content-classifier/data/train/Gun/\n",
        "!mv video-content-classifier/data/gun/* video-content-classifier/data/train/Gun/\n",
        "!echo \"######################\"\n",
        "!echo \"Copied: Gun\"\n",
        "!echo \"######################\"\n",
        "\n",
        "!cp -r drive/'My Drive'/Cont_vid/videos/sword/* video-content-classifier/data/train/Cold_Arms/\n",
        "!cp -r drive/'My Drive'/Cont_vid/videos/sword_exercise/* video-content-classifier/data/train/Cold_Arms/\n",
        "!cp -r drive/'My Drive'/Cont_vid/videos/draw_sword/* video-content-classifier/data/train/Cold_Arms/\n",
        "!echo \"######################\"\n",
        "!echo \"Copied: Cold_Arms\"\n",
        "!echo \"######################\"\n",
        "\n",
        "!cp -r drive/'My Drive'/Cont_vid/videos/smoke/* video-content-classifier/data/train/Smoking/\n",
        "!echo \"######################\"\n",
        "!echo \"Copied: Smoking\"\n",
        "!echo \"######################\"\n",
        "\n",
        "!cp -r drive/'My Drive'/Cont_vid/videos/kiss/* video-content-classifier/data/train/Kissing/\n",
        "!echo \"######################\"\n",
        "!echo \"Copied: Kissing\"\n",
        "!echo \"######################\"\n",
        "\n",
        "!cd video-content-classifier/data/train/Safe/ && for i in *.mp4;do name=`echo $i | cut -d'.' -f1`;echo $name;ffmpeg -loglevel panic -y -i \"$i\" -vcodec copy -acodec copy \"${name}.avi\";done\n",
        "!cd video-content-classifier/data/train/Violence/ && for i in *.mp4;do name=`echo $i | cut -d'.' -f1`;echo $name;ffmpeg -loglevel panic -y -i \"$i\" -vcodec copy -acodec copy \"${name}.avi\";done\n",
        "!cd video-content-classifier/data/train/Gun/ && for i in *.mp4;do name=`echo $i | cut -d'.' -f1`;echo $name;ffmpeg -loglevel panic -y -i \"$i\" -vcodec copy -acodec copy \"${name}.avi\";done\n",
        "!cd video-content-classifier/data/train/Cold_Arms/ && for i in *.mp4;do name=`echo $i | cut -d'.' -f1`;echo $name;ffmpeg -loglevel panic -y -i \"$i\" -vcodec copy -acodec copy \"${name}.avi\";done\n",
        "!cd video-content-classifier/data/train/Smoking/ && for i in *.mp4;do name=`echo $i | cut -d'.' -f1`;echo $name;ffmpeg -loglevel panic -y -i \"$i\" -vcodec copy -acodec copy \"${name}.avi\";done\n",
        "!cd video-content-classifier/data/train/Kissing/ && for i in *.mp4;do name=`echo $i | cut -d'.' -f1`;echo $name;ffmpeg -loglevel panic -y -i \"$i\" -vcodec copy -acodec copy \"${name}.avi\";done\n",
        "\n",
        "!mv video-content-classifier/data/train/Safe/'-_FREE_HUGS_-_Abrazos_Gratis_www_abrazosgratis_org_hug_u_cm_np2_le_goo_0.avi' video-content-classifier/data/train/Safe/S_a.avi\n",
        "!mv video-content-classifier/data/train/Safe/'-_FREE_HUGS_-_Abrazos_Gratis_www_abrazosgratis_org_hug_u_cm_np2_le_goo_1.avi' video-content-classifier/data/train/Safe/S_b.avi\n",
        "!mv video-content-classifier/data/train/Safe/'-_FREE_HUGS_-_Abrazos_Gratis_www_abrazosgratis_org_hug_u_cm_np2_ba_goo_2.avi' video-content-classifier/data/train/Safe/S_c.avi\n",
        "!mv video-content-classifier/data/train/Safe/'-_FREE_HUGS_-_Abrazos_Gratis_www_abrazosgratis_org_hug_u_cm_np2_le_goo_3.avi' video-content-classifier/data/train/Safe/S_d.avi\n",
        "!mv video-content-classifier/data/train/Safe/'-_FREE_HUGS_-_Abrazos_Gratis_www_abrazosgratis_org_hug_u_cm_np2_le_goo_4.avi' video-content-classifier/data/train/Safe/S_e.avi\n",
        "!mv video-content-classifier/data/train/Safe/'-_FREE_HUGS_-_Abrazos_Gratis_www_abrazosgratis_org_hug_u_cm_np4_le_goo_5.avi' video-content-classifier/data/train/Safe/S_f.avi\n",
        "!mv video-content-classifier/data/train/Safe/'-_FREE_HUGS_-_Abrazos_Gratis_www_abrazosgratis_org_hug_u_cm_np2_ba_goo_6.avi' video-content-classifier/data/train/Safe/S_g.avi\n",
        "!mv video-content-classifier/data/train/Safe/'-_FREE_HUGS_-_Abrazos_Gratis_www_abrazosgratis_org_hug_u_cm_np2_ba_goo_7.avi' video-content-classifier/data/train/Safe/S_h.avi\n",
        "!mv video-content-classifier/data/train/Safe/'-_FREE_HUGS_-_Abrazos_Gratis_www_abrazosgratis_org_hug_u_cm_np2_ba_goo_8.avi' video-content-classifier/data/train/Safe/S_i.avi\n",
        "!mv video-content-classifier/data/train/Safe/'-_FREE_HUGS_-_Abrazos_Gratis_www_abrazosgratis_org_hug_u_cm_np2_le_goo_9.avi' video-content-classifier/data/train/Safe/S_j.avi\n",
        "!mv video-content-classifier/data/train/Safe/'-_FREE_HUGS_-_Abrazos_Gratis_www_abrazosgratis_org_hug_u_cm_np2_ba_goo_10.avi' video-content-classifier/data/train/Safe/S_k.avi\n",
        "!mv video-content-classifier/data/train/Safe/'-_FREE_HUGS_-_Abrazos_Gratis_www_abrazosgratis_org_hug_u_cm_np2_le_goo_11.avi' video-content-classifier/data/train/Safe/S_l.avi\n",
        "!mv video-content-classifier/data/train/Safe/'-_FREE_HUGS_-_Abrazos_Gratis_www_abrazosgratis_org_hug_u_cm_np2_le_goo_12.avi' video-content-classifier/data/train/Safe/S_m.avi\n",
        "\n",
        "!rm video-content-classifier/data/train/*/*.mp4\n",
        "!rm -rf video-content-classifier/data/gun/ video-content-classifier/data/'Real Life Violence Dataset'/\n",
        "\n",
        "!k=1 && cd video-content-classifier/data/train/Safe/ && for i in *.avi;   do mv \"$i\" \"S_${k}.avi\";   k=$(($k+1)); done\n",
        "!k=1 && cd video-content-classifier/data/train/Violence/ && for i in *.avi;   do mv \"$i\" \"V_${k}.avi\";   k=$(($k+1)); done\n",
        "!k=1 && cd video-content-classifier/data/train/Gun/ && for i in *.avi;   do mv \"$i\" \"G_${k}.avi\";   k=$(($k+1)); done\n",
        "!k=1 && cd video-content-classifier/data/train/Cold_Arms/ && for i in *.avi;   do mv \"$i\" \"C_${k}.avi\";   k=$(($k+1)); done\n",
        "!k=1 && cd video-content-classifier/data/train/Smoking/ && for i in *.avi;   do mv \"$i\" \"Sm_${k}.avi\";   k=$(($k+1)); done\n",
        "!k=1 && cd video-content-classifier/data/train/Kissing/ && for i in *.avi;   do mv \"$i\" \"K_${k}.avi\";   k=$(($k+1)); done\n",
        "\n",
        "!t=$(($(ls video-content-classifier/data/train/Safe/*|wc -w)/3)) && mv `ls video-content-classifier/data/train/Safe/* |head -$t ` video-content-classifier/data/test/Safe/\n",
        "!t=$(($(ls video-content-classifier/data/train/Violence/*|wc -w)/3)) && mv `ls video-content-classifier/data/train/Violence/* |head -$t ` video-content-classifier/data/test/Violence/\n",
        "!t=$(($(ls video-content-classifier/data/train/Gun/*|wc -w)/3)) && mv `ls video-content-classifier/data/train/Gun/* |head -$t ` video-content-classifier/data/test/Gun/\n",
        "!t=$(($(ls video-content-classifier/data/train/Cold_Arms/*|wc -w)/3)) && mv `ls video-content-classifier/data/train/Cold_Arms/* |head -$t ` video-content-classifier/data/test/Cold_Arms/\n",
        "!t=$(($(ls video-content-classifier/data/train/Smoking/*|wc -w)/3)) && mv `ls video-content-classifier/data/train/Smoking/* |head -$t ` video-content-classifier/data/test/Smoking/\n",
        "!t=$(($(ls video-content-classifier/data/train/Kissing/*|wc -w)/3)) && mv `ls video-content-classifier/data/train/Kissing/* |head -$t ` video-content-classifier/data/test/Kissing/\n",
        "\n",
        "'''\n",
        "!touch trainlist01.txt\n",
        "!ls video-content-classifier/data/train/Safe/* >>trainlist01.txt\n",
        "!ls video-content-classifier/data/train/Violence/* >>trainlist01.txt\n",
        "!ls video-content-classifier/data/train/Gun/* >>trainlist01.txt\n",
        "!ls video-content-classifier/data/train/Cold_Arms/* >>trainlist01.txt\n",
        "!ls video-content-classifier/data/train/Smoking/* >>trainlist01.txt\n",
        "!ls video-content-classifier/data/train/Kissing/* >>trainlist01.txt\n",
        "\n",
        "!touch testlist01.txt\n",
        "!ls video-content-classifier/data/test/Safe/* >>testlist01.txt\n",
        "!ls video-content-classifier/data/test/Violence/* >>testlist01.txt\n",
        "!ls video-content-classifier/data/test/Gun/* >>testlist01.txt\n",
        "!ls video-content-classifier/data/test/Cold_Arms/* >>testlist01.txt\n",
        "!ls video-content-classifier/data/test/Smoking/* >>testlist01.txt\n",
        "!ls video-content-classifier/data/test/Kissing/* >>testlist01.txt\n",
        "'''"
      ],
      "execution_count": 0,
      "outputs": []
    },
    {
      "cell_type": "markdown",
      "metadata": {
        "id": "rw1OTMi3K3gG",
        "colab_type": "text"
      },
      "source": [
        "#Training"
      ]
    },
    {
      "cell_type": "markdown",
      "metadata": {
        "id": "qc-vYbhcf3AT",
        "colab_type": "text"
      },
      "source": [
        "##Prepare training environment"
      ]
    },
    {
      "cell_type": "code",
      "metadata": {
        "id": "SrmC97vlKx26",
        "colab_type": "code",
        "colab": {}
      },
      "source": [
        "!pip install tensorflow-gpu tqdm\n",
        "!cd video-content-classifier && pip install -r requirements.txt\n",
        "\n",
        "!cd video-content-classifier/data && mkdir checkpoints sequences"
      ],
      "execution_count": 0,
      "outputs": []
    },
    {
      "cell_type": "markdown",
      "metadata": {
        "id": "0DWLYBlGL_oE",
        "colab_type": "text"
      },
      "source": [
        "##Extract frames from videos"
      ]
    },
    {
      "cell_type": "code",
      "metadata": {
        "id": "EB198JyuL-pb",
        "colab_type": "code",
        "colab": {}
      },
      "source": [
        "!cd video-content-classifier/data && python extract_files.py"
      ],
      "execution_count": 0,
      "outputs": []
    },
    {
      "cell_type": "markdown",
      "metadata": {
        "id": "TMu1xoTFMAPk",
        "colab_type": "text"
      },
      "source": [
        "##Training the InceptionV3 CNN model"
      ]
    },
    {
      "cell_type": "code",
      "metadata": {
        "id": "FXRO0aJmL-X-",
        "colab_type": "code",
        "colab": {}
      },
      "source": [
        "!cd video-content-classifier && python train_cnn.py"
      ],
      "execution_count": 0,
      "outputs": []
    },
    {
      "cell_type": "markdown",
      "metadata": {
        "id": "RwFBsb35MQdd",
        "colab_type": "text"
      },
      "source": [
        "##Extracting sequences using the CNN model\n",
        "###Sequences are generated using the frames extracted from the video which will be used to train the RNN model"
      ]
    },
    {
      "cell_type": "code",
      "metadata": {
        "id": "rceNYCi_L-CM",
        "colab_type": "code",
        "colab": {}
      },
      "source": [
        "!cd video-content-classifier && m=`ls -t ./data/checkpoints/* |head -1 ` && sed -i \"8s~None~\\\"$m\\\"~\" extractor.py #CNN model weights are fed to the script\n",
        "!cd video-content-classifier && python extract_features.py"
      ],
      "execution_count": 0,
      "outputs": []
    },
    {
      "cell_type": "markdown",
      "metadata": {
        "id": "jgFt026bMrvN",
        "colab_type": "text"
      },
      "source": [
        "##Training the LSTM RNN model"
      ]
    },
    {
      "cell_type": "code",
      "metadata": {
        "id": "BIu9UwCUMsVl",
        "colab_type": "code",
        "colab": {}
      },
      "source": [
        "!cd video-content-classifier && python train.py"
      ],
      "execution_count": 0,
      "outputs": []
    },
    {
      "cell_type": "markdown",
      "metadata": {
        "id": "UhZ7sfi1MwD4",
        "colab_type": "text"
      },
      "source": [
        "##Saving the models to Google Drive"
      ]
    },
    {
      "cell_type": "code",
      "metadata": {
        "id": "l9kcKAMzMvYN",
        "colab_type": "code",
        "colab": {}
      },
      "source": [
        "!cp -r video-content-classifier/data/checkpoints/* drive/'My Drive'/Cont_vid/"
      ],
      "execution_count": 0,
      "outputs": []
    }
  ]
}